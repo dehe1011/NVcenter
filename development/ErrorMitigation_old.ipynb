{
 "cells": [
  {
   "cell_type": "markdown",
   "id": "8fb65634-7886-448c-9fd1-6cd5dd42111a",
   "metadata": {},
   "source": [
    "# Error Mitigation"
   ]
  },
  {
   "cell_type": "code",
   "execution_count": 1,
   "id": "50f3563b-d317-4796-adad-63e164169913",
   "metadata": {},
   "outputs": [],
   "source": [
    "%load_ext autoreload\n",
    "%autoreload 2\n",
    "\n",
    "import os\n",
    "ROOT_DIR = os.getcwd()[:os.getcwd().rfind('NVcenter')]+ 'NVcenter'\n",
    "os.chdir(ROOT_DIR)\n",
    "\n",
    "from NVcenter import *\n",
    "plt.style.use('NVcenter-default')\n",
    "\n",
    "import numpy as np \n",
    "import matplotlib.pyplot as plt\n",
    "import qutip as q"
   ]
  },
  {
   "cell_type": "markdown",
   "id": "5f0914f6-ebf4-46c8-825f-7750bfeeaa7f",
   "metadata": {},
   "source": [
    "## Surface Electron Spin Bath"
   ]
  },
  {
   "cell_type": "code",
   "execution_count": 15,
   "id": "15b4106e-5d04-475f-9550-b9ad31b8e75c",
   "metadata": {},
   "outputs": [
    {
     "name": "stdout",
     "output_type": "stream",
     "text": [
      "Environment approximation level: no_bath\n"
     ]
    }
   ],
   "source": [
    "register_config = [('NV', (0, 0, 0), 0, {})]\n",
    "\n",
    "directory = os.getcwd()\n",
    "filename = os.path.join( \"baths\", \"surface_electrons_4\")\n",
    "bath_configs_nested = load_spin_baths(filename, directory)\n",
    "bath_configs = [item for sublist in bath_configs_nested for item in sublist]\n",
    "\n",
    "xp, xm = q.sigmax().eigenstates()[1]\n",
    "xp, xm = xp * xp.dag(), xm * xm.dag()\n",
    "yp, ym = q.sigmay().eigenstates()[1]\n",
    "yp, ym = yp * yp.dag(), ym * ym.dag()\n",
    "zp, zm = q.sigmaz().eigenstates()[1]\n",
    "zp, zm = zp * zp.dag(), zm * zm.dag()\n",
    "\n",
    "kwargs = dict(suter_method=False, instant_pulses=True, env_approx_level='no_bath', verbose=False, thermal_bath=False)\n",
    "env = Environment(register_config, bath_configs, **kwargs)\n",
    "print(f'Environment approximation level: {env.env_approx_level}')"
   ]
  },
  {
   "cell_type": "code",
   "execution_count": 16,
   "id": "8d85b21b-1acd-45e3-b96f-e1429f5c2060",
   "metadata": {},
   "outputs": [
    {
     "name": "stdout",
     "output_type": "stream",
     "text": [
      "Shape: (6, 3, 600)\n",
      "Saved as C:\\Users\\Dennis Herb\\OneDrive\\2_Uni\\Doktor\\python_projects\\NVcenter\\export\\baths\\surface_electrons_4\\no_bath_0uT.npy\n",
      "Shape: (6, 3, 600)\n",
      "Saved as C:\\Users\\Dennis Herb\\OneDrive\\2_Uni\\Doktor\\python_projects\\NVcenter\\export\\baths\\surface_electrons_4\\no_bath_5uT.npy\n",
      "CPU times: total: 828 ms\n",
      "Wall time: 2.83 s\n"
     ]
    }
   ],
   "source": [
    "%%time\n",
    "pulse_seq = [80e-6]\n",
    "t_list = np.linspace(0, 80e-6, 600)\n",
    "\n",
    "hada = q.Qobj( 1/np.sqrt(2) * np.array([[1, 1], [1, -1]]))\n",
    "start_time = time.time()\n",
    "init_states = [xm, xp, ym, yp, zm, zp]\n",
    "new_states_list = []\n",
    "for init_state in init_states:\n",
    "    env.old_register_states = [hada * init_state * hada]\n",
    "    new_states_list.append( env.get_new_register_states(pulse_seq, t_list=t_list) )\n",
    "\n",
    "for Bz in [0, 5e-6]:\n",
    "    miri_list = []\n",
    "    for new_states in new_states_list:\n",
    "        detuning = CONST[\"D_gs\"] + CONST[\"gamma_e\"] * (CONST[\"Bz\"]-Bz) / (2*np.pi) - CONST[\"N_zz\"] * CONST[\"m_N\"]\n",
    "        detuning_gates = [q.Qobj( np.array([[1, 0], [0, np.e**(1j*2*np.pi*detuning*t) ]]) ) for t in t_list]\n",
    "        \n",
    "        new_states = [hada *detuning_gate * state * detuning_gate.dag() * hada for state, detuning_gate in zip(new_states, detuning_gates)] \n",
    "          \n",
    "        sigmax = [ q.expect(state, q.sigmax()) for state in new_states ]\n",
    "        sigmay = [ q.expect(state, q.sigmay()) for state in new_states ]\n",
    "        sigmaz = [ q.expect(state, q.sigmaz()) for state in new_states ]\n",
    "        miri_list.append( [sigmax, sigmay, sigmaz] )\n",
    "    \n",
    "    miri_list = np.array(miri_list)\n",
    "    print(f\"Shape: {miri_list.shape}\")\n",
    "    \n",
    "    save_directory = os.path.join(os.getcwd(), \"export\", filename)\n",
    "    os.makedirs(save_directory, exist_ok=True)\n",
    "    save_filename = f\"{env.env_approx_level}_{int(Bz*1e6)}uT\"\n",
    "    save_loc = os.path.join(save_directory, save_filename)\n",
    "    np.save(save_loc, miri_list)\n",
    "    print(f'Saved as {save_loc}.npy')"
   ]
  },
  {
   "cell_type": "code",
   "execution_count": 17,
   "id": "c4857611-0200-4f8e-8e95-7afe3ec13a4a",
   "metadata": {},
   "outputs": [
    {
     "data": {
      "image/png": "[encoded data removed]",
      "text/plain": [
       "<Figure size 640x480 with 1 Axes>"
      ]
     },
     "metadata": {},
     "output_type": "display_data"
    }
   ],
   "source": [
    "fig, ax = plt.subplots()\n",
    "\n",
    "# save_directory = os.path.join(os.getcwd(), \"export\", \"dominik_bath_small\")\n",
    "# save_filename = os.path.join('Suter', 'gCCE0_0uT')\n",
    "save_loc = os.path.join(save_directory, save_filename)\n",
    "miri_list = np.load(save_loc + \".npy\")\n",
    "\n",
    "idx = 4\n",
    "ax.plot(t_list * 1e6, miri_list[idx][0], label=r'$<\\sigma_X>$')\n",
    "ax.plot(t_list * 1e6, miri_list[idx][1], label=r'$<\\sigma_Y>$')\n",
    "ax.plot(t_list * 1e6, miri_list[idx][2], label=r'$<\\sigma_Z>$')\n",
    "\n",
    "ax.set_ylabel('Population')\n",
    "ax.set_xlabel(r'Time [$\\mu$s]' )\n",
    "ax.legend(loc='upper center', bbox_to_anchor=(0.5, 1.1), ncol=3, columnspacing=1, fontsize='small')  \n",
    "plt.show()"
   ]
  },
  {
   "cell_type": "code",
   "execution_count": null,
   "id": "b3845845-491d-4a1a-aff2-bf49fd63d6d0",
   "metadata": {},
   "outputs": [],
   "source": []
  }
 ],
 "metadata": {
  "kernelspec": {
   "display_name": "Python 3 (ipykernel)",
   "language": "python",
   "name": "python3"
  },
  "language_info": {
   "codemirror_mode": {
    "name": "ipython",
    "version": 3
   },
   "file_extension": ".py",
   "mimetype": "text/x-python",
   "name": "python",
   "nbconvert_exporter": "python",
   "pygments_lexer": "ipython3",
   "version": "3.11.9"
  }
 },
 "nbformat": 4,
 "nbformat_minor": 5
}
