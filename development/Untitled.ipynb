{
 "cells": [
  {
   "cell_type": "code",
   "execution_count": 1,
   "id": "05fd6b67-abe0-4df2-b42c-a3015d07d988",
   "metadata": {},
   "outputs": [],
   "source": [
    "%load_ext autoreload\n",
    "%autoreload 2\n",
    "\n",
    "import os\n",
    "ROOT_DIR = os.getcwd()[:os.getcwd().rfind('NVcenter')]+ 'NVcenter'\n",
    "os.chdir(ROOT_DIR)\n",
    "\n",
    "from NVcenter import *\n",
    "plt.style.use('NVcenter-default')\n",
    "\n",
    "import qutip as q\n",
    "import numpy as np \n",
    "import scipy.linalg as la"
   ]
  },
  {
   "cell_type": "code",
   "execution_count": 20,
   "id": "8ac64c04-abeb-4f12-b424-84733c9123de",
   "metadata": {},
   "outputs": [],
   "source": [
    "import qutip as q\n",
    "import numpy as np\n",
    "\n",
    "T2 = 5e-6\n",
    "T1 = 100e-6\n",
    "\n",
    "xm, xp = q.sigmax().eigenstates()[1]\n",
    "xp, xm = xp * xp.dag(), xm * xm.dag()\n",
    "ym, yp = q.sigmay().eigenstates()[1]\n",
    "yp, ym = yp * yp.dag(), ym * ym.dag()\n",
    "zp, zm = q.sigmaz().eigenstates()[1]\n",
    "zm, zp = zp * zp.dag(), zm * zm.dag()\n",
    "\n",
    "hada = 1/np.sqrt(2) * q.Qobj([[1,1], [1,-1]])\n",
    "init_states = [hada * dm * hada for dm in [xp, xm, yp, ym, zp, zm]]\n",
    "\n",
    "H = q.Qobj([[0,0], [0,0]])\n",
    "c_ops = [np.sqrt(1/(2*T2)) * q.sigmaz()] # , np.sqrt(1/T1) * q.sigmap()]\n",
    "times = np.linspace(0, 50e-6, 100)\n",
    "\n",
    "states = []\n",
    "for init_state in init_states:\n",
    "    rho0 = init_state\n",
    "    result = q.mesolve(H, rho0, times, c_ops).states\n",
    "    result = [hada * dm * hada for dm in result]\n",
    "    states.append(result)\n",
    "\n",
    "pauli = True\n",
    "if pauli:\n",
    "    sigmax = np.array( [[q.expect(dm, q.sigmax()).real for dm in row] for row in states])\n",
    "    sigmay = np.array( [[q.expect(dm, q.sigmay()).real for dm in row] for row in states])\n",
    "    sigmaz = np.array( [[q.expect(dm, q.sigmaz()).real for dm in row] for row in states])\n",
    "    miri_list = np.array([sigmax, sigmay, sigmaz])\n",
    "\n",
    "else:\n",
    "    pop0 = np.array( [[q.expect(dm, q.fock_dm(2, 0)).real for dm in row] for row in states] )\n",
    "    pop1 = np.array( [[q.expect(dm, q.fock_dm(2, 1)).real for dm in row] for row in states] )\n",
    "    miri_list = np.array([pop0, pop1])\n",
    "    \n",
    "miri_list = np.transpose(miri_list, (1, 0, 2))\n",
    "np.save(\"Lindblad1.npy\", miri_list)"
   ]
  },
  {
   "cell_type": "code",
   "execution_count": 21,
   "id": "71aa4b58-ba9f-44e6-b3b2-ac76139d26cb",
   "metadata": {},
   "outputs": [],
   "source": [
    "PAULIS = [q.qeye(2), q.sigmax(), q.sigmay(), q.sigmaz()]\n",
    "MATRIX_UNITS = [np.array([[1,0], [0,0]]), \n",
    "               np.array([[0,0], [1,0]]),\n",
    "               np.array([[0,1], [0,0]]),\n",
    "               np.array([[0,0], [0,1]])\n",
    "               ]\n",
    "\n",
    "def construct_PTM(input_array):\n",
    "    \"\"\" input_array \n",
    "        1st dimension: pauli eigenstates as initial states in order xp,xm,yp,ym,zp,zm.\n",
    "        2nd dimension: pauli observables in order X, Y, Z.\n",
    "        3rd dimension: timesteps. \n",
    "    \"\"\"\n",
    "\n",
    "    n_timesteps = input_array.shape[-1]\n",
    "    PTM = np.zeros((4,4,n_timesteps))\n",
    "\n",
    "    PTM[0,0,:] = 1 # first column is (1,0,0,0)\n",
    "    for i in range(3):\n",
    "        PTM[i+1,0,:] = 0.5 * (input_array[4,i,:] + input_array[5,i,:]) # identity\n",
    "        PTM[i+1,1,:] = 0.5 * (input_array[0,i,:] - input_array[1,i,:]) # sigma_x\n",
    "        PTM[i+1,2,:] = 0.5 * (input_array[2,i,:] - input_array[3,i,:]) # sigma_y\n",
    "        PTM[i+1,3,:] = 0.5 * (input_array[4,i,:] - input_array[5,i,:]) # sigma_z\n",
    "    return PTM \n",
    "\n",
    "def apply_ptm(PTM, rho):\n",
    "    pauli_vec_before = rho_to_pauli_vec(rho)\n",
    "    pauli_vec_after = PTM @ pauli_vec_before\n",
    "    rho = pauli_vec_to_rho(pauli_vec_after)\n",
    "    return rho\n",
    "\n",
    "def rho_to_pauli_vec(rho):\n",
    "    return 0.5 * np.array([np.trace(rho @ P.full()) for P in PAULIS]).T\n",
    "\n",
    "def pauli_vec_to_rho(pauli_vec):\n",
    "    return sum([c * P.full() for c, P in zip(pauli_vec, PAULIS)])"
   ]
  },
  {
   "cell_type": "code",
   "execution_count": 22,
   "id": "83127575-4e1a-43d5-b0e7-fb316449accc",
   "metadata": {},
   "outputs": [],
   "source": [
    "miri_list = np.load(\"Lindblad1.npy\")\n",
    "miri_list = miri_list[:,:,1:]\n",
    "PTM_list = construct_PTM(miri_list)\n",
    "\n",
    "init_state = q.fock_dm(2,0).full()\n",
    "rho_list = []\n",
    "for i in range(99):\n",
    "    rho = apply_ptm(PTM_list[:,:,i], init_state)\n",
    "    rho_list.append( rho ) \n",
    "\n",
    "A = create_mitigated_matrix_qutip(rho_list, miri_list, 99)"
   ]
  },
  {
   "cell_type": "code",
   "execution_count": 19,
   "id": "3a011ad0-699f-4417-bde0-159c7b674df1",
   "metadata": {},
   "outputs": [
    {
     "data": {
      "text/latex": [
       "Quantum object: dims=[[2], [2]], shape=(2, 2), type='oper', dtype=Dense, isherm=True$$\\left(\\begin{array}{cc}1.000 & 2.230\\times10^{ -9 }\\\\2.230\\times10^{ -9 } & 4.610\\times10^{ -16 }\\end{array}\\right)$$"
      ],
      "text/plain": [
       "Quantum object: dims=[[2], [2]], shape=(2, 2), type='oper', dtype=Dense, isherm=True\n",
       "Qobj data =\n",
       "[[1.00000000e+00-1.13522770e-17j 2.23026275e-09+2.81921826e-09j]\n",
       " [2.23026270e-09-2.81921823e-09j 4.60975148e-16-1.27216790e-17j]]"
      ]
     },
     "execution_count": 19,
     "metadata": {},
     "output_type": "execute_result"
    }
   ],
   "source": [
    "A[82]"
   ]
  },
  {
   "cell_type": "code",
   "execution_count": 23,
   "id": "5ea23a4d-7b13-41bb-bd45-c2cfd3585f3b",
   "metadata": {},
   "outputs": [
    {
     "data": {
      "text/latex": [
       "Quantum object: dims=[[2], [2]], shape=(2, 2), type='oper', dtype=Dense, isherm=True$$\\left(\\begin{array}{cc}0.791 & 0.256j\\\\-0.256j & 0.209\\end{array}\\right)$$"
      ],
      "text/plain": [
       "Quantum object: dims=[[2], [2]], shape=(2, 2), type='oper', dtype=Dense, isherm=True\n",
       "Qobj data =\n",
       "[[ 7.90600855e-01-5.55137858e-15j  1.14182005e-14+2.56095148e-01j]\n",
       " [-3.72939846e-15-2.56095148e-01j  2.09399145e-01+2.07287807e-14j]]"
      ]
     },
     "execution_count": 23,
     "metadata": {},
     "output_type": "execute_result"
    }
   ],
   "source": [
    "A[82]"
   ]
  },
  {
   "cell_type": "code",
   "execution_count": null,
   "id": "493eb493-496c-4786-9ab9-b6bee76759ba",
   "metadata": {},
   "outputs": [],
   "source": []
  }
 ],
 "metadata": {
  "kernelspec": {
   "display_name": "Python 3 (ipykernel)",
   "language": "python",
   "name": "python3"
  },
  "language_info": {
   "codemirror_mode": {
    "name": "ipython",
    "version": 3
   },
   "file_extension": ".py",
   "mimetype": "text/x-python",
   "name": "python",
   "nbconvert_exporter": "python",
   "pygments_lexer": "ipython3",
   "version": "3.10.0"
  }
 },
 "nbformat": 4,
 "nbformat_minor": 5
}
