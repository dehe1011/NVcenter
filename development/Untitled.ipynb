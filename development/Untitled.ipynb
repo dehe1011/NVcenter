{
 "cells": [
  {
   "cell_type": "code",
   "execution_count": 1,
   "id": "0c9c5d0d-53ba-49ce-94ae-e6fb128c648b",
   "metadata": {},
   "outputs": [],
   "source": [
    "%load_ext autoreload\n",
    "%autoreload 2\n",
    "\n",
    "import os\n",
    "ROOT_DIR = os.getcwd()[:os.getcwd().rfind('NVcenter')]+ 'NVcenter'\n",
    "os.chdir(ROOT_DIR)"
   ]
  },
  {
   "cell_type": "code",
   "execution_count": 9,
   "id": "d7462441-3a9e-4cd4-a8a8-8c03e4bc40f0",
   "metadata": {},
   "outputs": [],
   "source": [
    "from NVcenter import *\n",
    "import numpy as np"
   ]
  },
  {
   "cell_type": "markdown",
   "id": "fa4ae4db-b937-4093-81b8-fa4ae5bd78e3",
   "metadata": {},
   "source": [
    "## Demos"
   ]
  },
  {
   "cell_type": "code",
   "execution_count": 30,
   "id": "8241ff88-c664-4c64-9642-695a74b751ca",
   "metadata": {},
   "outputs": [
    {
     "data": {
      "text/latex": [
       "Quantum object: dims=[[2], [2]], shape=(2, 2), type='oper', dtype=Dense, isherm=True$$\\left(\\begin{array}{cc}0 & 0\\\\0 & 2.457\\times10^{ 9 }\\end{array}\\right)$$"
      ],
      "text/plain": [
       "Quantum object: dims=[[2], [2]], shape=(2, 2), type='oper', dtype=Dense, isherm=True\n",
       "Qobj data =\n",
       "[[0.0000000e+00 0.0000000e+00]\n",
       " [0.0000000e+00 2.4571932e+09]]"
      ]
     },
     "execution_count": 30,
     "metadata": {},
     "output_type": "execute_result"
    }
   ],
   "source": [
    "# Spin class\n",
    "\n",
    "nv1_config = ('NV', (0,0,0), 1, {})\n",
    "nv1 = Spin(*nv1_config)\n",
    "nv1.H"
   ]
  },
  {
   "cell_type": "code",
   "execution_count": 32,
   "id": "9fe47f37-5247-4950-8099-9813e5259b58",
   "metadata": {},
   "outputs": [
    {
     "data": {
      "text/latex": [
       "Quantum object: dims=[[2, 2], [2, 2]], shape=(4, 4), type='oper', dtype=Dense, isherm=True$$\\left(\\begin{array}{cc}0 & 0 & 0 & -6.125\\times10^{ 4 }\\\\0 & 2.457\\times10^{ 9 } & -2.042\\times10^{ 4 } & 0\\\\0 & -2.042\\times10^{ 4 } & 2.457\\times10^{ 9 } & 0\\\\-6.125\\times10^{ 4 } & 0 & 0 & 4.914\\times10^{ 9 }\\end{array}\\right)$$"
      ],
      "text/plain": [
       "Quantum object: dims=[[2, 2], [2, 2]], shape=(4, 4), type='oper', dtype=Dense, isherm=True\n",
       "Qobj data =\n",
       "[[ 0.00000000e+00  0.00000000e+00  0.00000000e+00 -6.12495312e+04]\n",
       " [ 0.00000000e+00  2.45719320e+09 -2.04165104e+04  0.00000000e+00]\n",
       " [ 0.00000000e+00 -2.04165104e+04  2.45719320e+09  0.00000000e+00]\n",
       " [-6.12495312e+04  0.00000000e+00  0.00000000e+00  4.91442724e+09]]"
      ]
     },
     "execution_count": 32,
     "metadata": {},
     "output_type": "execute_result"
    }
   ],
   "source": [
    "# TwoSpinSystem class\n",
    "\n",
    "nv1_config = ('NV', (0,0,0), 1, {})\n",
    "nv2_config = ('NV', (20e-9,0,0), 1, {})\n",
    "\n",
    "two_spin_system = TwoSpinSystem(nv1_config, nv2_config, 100e-6)\n",
    "two_spin_system.H"
   ]
  },
  {
   "cell_type": "code",
   "execution_count": 38,
   "id": "729d6373-0183-49b7-a621-10c91ddfbdfa",
   "metadata": {},
   "outputs": [
    {
     "data": {
      "text/plain": [
       "('NV', (0, 0, 0), 0, {})"
      ]
     },
     "execution_count": 38,
     "metadata": {},
     "output_type": "execute_result"
    }
   ],
   "source": [
    "# SpinConfig class\n",
    "\n",
    "register_C13_pos = [(0.87e-9, 0, 0.19e-9)]\n",
    "bath_spin_type = 'C13'\n",
    "abundancy, rmin, rmax = 0.02e-2, 1.8e-9, 4.2e-9\n",
    "spin_config = SpinConfig(register_C13_pos, bath_spin_type, abundancy, rmin, rmax, \n",
    "                     bath_spin_pos_seed=10, bath_init_state_idx=123, bath_P1_seed=123)\n",
    "\n",
    "bath_approx_level = 'no_bath'\n",
    "spin_config.mf_configs[bath_approx_level][0]\n",
    "spin_config.system_configs[bath_approx_level][0]"
   ]
  },
  {
   "cell_type": "code",
   "execution_count": 40,
   "id": "4c135d2f-009f-4f27-aba6-97016a19fd2c",
   "metadata": {},
   "outputs": [
    {
     "data": {
      "text/latex": [
       "Quantum object: dims=[[2, 2], [2, 2]], shape=(4, 4), type='oper', dtype=Dense, isherm=True$$\\left(\\begin{array}{cc}-7.924\\times10^{ 4 } & 0 & 3.910\\times10^{ 4 } & 1.790\\times10^{ 5 }\\\\0 & 7.924\\times10^{ 4 } & 5.398\\times10^{ 4 } & -3.910\\times10^{ 4 }\\\\3.910\\times10^{ 4 } & 5.398\\times10^{ 4 } & 2.457\\times10^{ 9 } & -5.529\\times10^{ 4 }\\\\1.790\\times10^{ 5 } & -3.910\\times10^{ 4 } & -5.529\\times10^{ 4 } & 2.457\\times10^{ 9 }\\end{array}\\right)$$"
      ],
      "text/plain": [
       "Quantum object: dims=[[2, 2], [2, 2]], shape=(4, 4), type='oper', dtype=Dense, isherm=True\n",
       "Qobj data =\n",
       "[[-7.92420875e+04  0.00000000e+00  3.90984042e+04  1.79029535e+05]\n",
       " [ 0.00000000e+00  7.92420875e+04  5.39840237e+04 -3.90984042e+04]\n",
       " [ 3.90984042e+04  5.39840237e+04  2.45719031e+09 -5.52934935e+04]\n",
       " [ 1.79029535e+05 -3.90984042e+04 -5.52934935e+04  2.45719610e+09]]"
      ]
     },
     "execution_count": 40,
     "metadata": {},
     "output_type": "execute_result"
    }
   ],
   "source": [
    "# System class\n",
    "\n",
    "register_C13_pos = [(0.87e-9, 0, 0.19e-9)]\n",
    "bath_spin_type = 'C13'\n",
    "abundancy, rmin, rmax = 0.02e-2, 1.8e-9, 4.2e-9\n",
    "spin_config = SpinConfig(register_C13_pos, bath_spin_type, abundancy, rmin, rmax, \n",
    "                     bath_spin_pos_seed=10, bath_init_state_idx=123, bath_P1_seed=123)\n",
    "\n",
    "bath_approx_level = 'no_bath'\n",
    "system_configs, mf_configs = spin_config.system_configs[bath_approx_level], spin_config.mf_configs[bath_approx_level]\n",
    "\n",
    "system = System(system_configs, mf_configs)\n",
    "system.H"
   ]
  },
  {
   "cell_type": "markdown",
   "id": "78850137-0c60-4cc1-addd-3e3499fb95aa",
   "metadata": {},
   "source": [
    "## Suter"
   ]
  },
  {
   "cell_type": "code",
   "execution_count": 44,
   "id": "d021c73d-4e36-47f8-a711-d741b0d97473",
   "metadata": {},
   "outputs": [
    {
     "data": {
      "text/latex": [
       "Quantum object: dims=[[2, 2], [2, 2]], shape=(4, 4), type='oper', dtype=Dense, isherm=True$$\\left(\\begin{array}{cc}-7.924\\times10^{ 4 } & 0 & 0 & 0\\\\0 & 7.924\\times10^{ 4 } & 0 & 0\\\\0 & 0 & 2.458\\times10^{ 9 } & -5.500\\times10^{ 4 }\\\\0 & 0 & -5.500\\times10^{ 4 } & 2.458\\times10^{ 9 }\\end{array}\\right)$$"
      ],
      "text/plain": [
       "Quantum object: dims=[[2, 2], [2, 2]], shape=(4, 4), type='oper', dtype=Dense, isherm=True\n",
       "Qobj data =\n",
       "[[-7.92420875e+04  0.00000000e+00  0.00000000e+00  0.00000000e+00]\n",
       " [ 0.00000000e+00  7.92420875e+04  0.00000000e+00  0.00000000e+00]\n",
       " [ 0.00000000e+00  0.00000000e+00  2.45758996e+09 -5.50000000e+04]\n",
       " [ 0.00000000e+00  0.00000000e+00 -5.50000000e+04  2.45759645e+09]]"
      ]
     },
     "execution_count": 44,
     "metadata": {},
     "output_type": "execute_result"
    }
   ],
   "source": [
    "import qutip as q\n",
    "\n",
    "D = DEFAULTS['D_gs'] # 2.87e9\n",
    "ve = DEFAULTS['gamma_e'] * DEFAULTS['Bz']/ (2*np.pi) #  -414e6\n",
    "vc = DEFAULTS['gamma_C'] * DEFAULTS['Bz']/ (2*np.pi) # 0.158e6\n",
    "A_N = -2.16e6\n",
    "A_zz = -0.152e6\n",
    "A_zx = 0.110e6\n",
    "I_NV, Sx_NV, Sy_NV, Sz_NV = get_spin_matrices(1, trunc=True)\n",
    "I_C13, Sx_C13, Sy_C13, Sz_C13 = get_spin_matrices(1/2, trunc=False)\n",
    "\n",
    "H = D * adjust_space_dim(2, Sz_NV**2, 0) - (ve - A_N) * adjust_space_dim(2, Sz_NV, 0) - vc * adjust_space_dim(2, Sz_C13, 1) + A_zz * q.tensor(Sz_NV, Sz_C13) + A_zx * q.tensor(Sz_NV, Sx_C13)\n",
    "H"
   ]
  },
  {
   "cell_type": "code",
   "execution_count": 50,
   "id": "aa6398c5-9d06-44e6-812c-09416e23d9d4",
   "metadata": {},
   "outputs": [
    {
     "data": {
      "text/latex": [
       "Quantum object: dims=[[2, 2], [2, 2]], shape=(4, 4), type='oper', dtype=Dense, isherm=True$$\\left(\\begin{array}{cc}-7.924\\times10^{ 4 } & 0 & 3.910\\times10^{ 4 } & 1.790\\times10^{ 5 }\\\\0 & 7.924\\times10^{ 4 } & 5.398\\times10^{ 4 } & -3.910\\times10^{ 4 }\\\\3.910\\times10^{ 4 } & 5.398\\times10^{ 4 } & 2.457\\times10^{ 9 } & -5.529\\times10^{ 4 }\\\\1.790\\times10^{ 5 } & -3.910\\times10^{ 4 } & -5.529\\times10^{ 4 } & 2.457\\times10^{ 9 }\\end{array}\\right)$$"
      ],
      "text/plain": [
       "Quantum object: dims=[[2, 2], [2, 2]], shape=(4, 4), type='oper', dtype=Dense, isherm=True\n",
       "Qobj data =\n",
       "[[-7.92420875e+04  0.00000000e+00  3.90984042e+04  1.79029535e+05]\n",
       " [ 0.00000000e+00  7.92420875e+04  5.39840237e+04 -3.90984042e+04]\n",
       " [ 3.90984042e+04  5.39840237e+04  2.45719031e+09 -5.52934935e+04]\n",
       " [ 1.79029535e+05 -3.90984042e+04 -5.52934935e+04  2.45719610e+09]]"
      ]
     },
     "execution_count": 50,
     "metadata": {},
     "output_type": "execute_result"
    }
   ],
   "source": [
    "# we can ignore the upper left and lower right blocks because they connect states with an spin flip in the NV center. \n",
    "# But this will not happen because of the big energy level splitting.\n",
    "\n",
    "config_nv = ('NV', (0,0,0), 1, {})\n",
    "config_C13 = ('C13', (0.87e-9, 0, 0.19e-9), 0, {})\n",
    "\n",
    "two_spin_config = TwoSpinSystem(config_nv, config_C13, 100e-6)\n",
    "two_spin_config.H"
   ]
  },
  {
   "cell_type": "code",
   "execution_count": 51,
   "id": "f05136cf-5ded-49c7-8c2e-01d888cf7fe1",
   "metadata": {},
   "outputs": [
    {
     "data": {
      "text/plain": [
       "array([[ 329530.93503144,      -0.        ,  110586.98699471],\n",
       "       [     -0.        , -176841.05804962,      -0.        ],\n",
       "       [ 110586.98699471,      -0.        , -152689.87698181]])"
      ]
     },
     "execution_count": 51,
     "metadata": {},
     "output_type": "execute_result"
    }
   ],
   "source": [
    "two_spin_config.dipolar_matrix"
   ]
  },
  {
   "cell_type": "markdown",
   "id": "f284bf72-5f5c-4109-9376-4bf4894d16a2",
   "metadata": {},
   "source": [
    "## Ramsey Two NV centers"
   ]
  },
  {
   "cell_type": "code",
   "execution_count": 10,
   "id": "012f1714-bc77-4c0e-a67e-f11aa540ded4",
   "metadata": {},
   "outputs": [],
   "source": [
    "nv1_config = ('NV', (0,0,0), 1, {})\n",
    "nv2_config = ('NV', (20e-9,0,0), 1, {})\n",
    "\n",
    "nv1 = Spin(*nv1_config)\n",
    "nv2 = Spin(*nv2_config)"
   ]
  },
  {
   "cell_type": "code",
   "execution_count": 28,
   "id": "cfd54d05-14ea-47f5-8dca-7815623a928e",
   "metadata": {},
   "outputs": [],
   "source": [
    "register = TwoSpinSystem(nv1_config, nv2_config, 100e-6)"
   ]
  },
  {
   "cell_type": "code",
   "execution_count": null,
   "id": "3b2ee269-e7ed-4bcf-8afd-58bc4ae5cc59",
   "metadata": {},
   "outputs": [],
   "source": []
  },
  {
   "cell_type": "code",
   "execution_count": null,
   "id": "0f4684f1-7b38-45dd-8004-0f7e9849022d",
   "metadata": {},
   "outputs": [],
   "source": [
    "register_C13_pos = [(0.87e-9, 0, 0.19e-9)]\n",
    "bath_spin_type = 'C13'\n",
    "abundancy, rmin, rmax = 0.02e-2, 1.8e-9, 4.2e-9\n",
    "spin_config = SpinConfig(register_C13_pos, bath_spin_type, abundancy, rmin, rmax, \n",
    "                     bath_spin_pos_seed=10, bath_init_state_idx=123, bath_P1_seed=123)"
   ]
  },
  {
   "cell_type": "code",
   "execution_count": null,
   "id": "da5df869-02d2-4bc7-944f-a794739c4bc4",
   "metadata": {},
   "outputs": [],
   "source": [
    "Pulses()"
   ]
  }
 ],
 "metadata": {
  "kernelspec": {
   "display_name": "Python 3 (ipykernel)",
   "language": "python",
   "name": "python3"
  },
  "language_info": {
   "codemirror_mode": {
    "name": "ipython",
    "version": 3
   },
   "file_extension": ".py",
   "mimetype": "text/x-python",
   "name": "python",
   "nbconvert_exporter": "python",
   "pygments_lexer": "ipython3",
   "version": "3.11.9"
  }
 },
 "nbformat": 4,
 "nbformat_minor": 5
}
