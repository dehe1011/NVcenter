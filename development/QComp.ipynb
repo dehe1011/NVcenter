{
 "cells": [
  {
   "cell_type": "markdown",
   "id": "5a8f8b5b-7ef0-4cfc-8e0d-4e6abe9c0416",
   "metadata": {},
   "source": [
    "# Quantum Computer "
   ]
  },
  {
   "cell_type": "markdown",
   "id": "83e8a9a6-6b66-4555-bb14-693c91eacaa6",
   "metadata": {},
   "source": [
    "The objective is to model the dipolar magnetic interaction between spins in diamond using quantum computing techniques."
   ]
  },
  {
   "cell_type": "code",
   "execution_count": 1,
   "id": "b116bec5-7af9-4027-a815-16e9f4af3c84",
   "metadata": {},
   "outputs": [],
   "source": [
    "import numpy as np\n",
    "import qutip as q\n",
    "\n",
    "from qiskit import QuantumCircuit\n",
    "from qiskit.quantum_info import Operator, Pauli"
   ]
  },
  {
   "cell_type": "code",
   "execution_count": 2,
   "id": "86b5581b-5f44-416d-b272-3a31ed904346",
   "metadata": {},
   "outputs": [
    {
     "data": {
      "text/plain": [
       "{'XX': True,\n",
       " 'YY': True,\n",
       " 'ZZ': True,\n",
       " 'XY': True,\n",
       " 'YX': True,\n",
       " 'XZ': True,\n",
       " 'ZX': True,\n",
       " 'YZ': True,\n",
       " 'ZY': True}"
      ]
     },
     "execution_count": 2,
     "metadata": {},
     "output_type": "execute_result"
    }
   ],
   "source": [
    "qc = QuantumCircuit(2)\n",
    "\n",
    "def get_coupling_gate(coupling_type):\n",
    "    \"\"\"\n",
    "    Returns Two-qubit coupling gates\n",
    "    Coupling types: 'XX', 'YY', 'ZZ', 'XY', 'YX', 'XZ', 'ZX', 'YZ', 'ZY'\n",
    "    \"\"\"\n",
    "    circ = QuantumCircuit(2)\n",
    "    circ.cx(1,0)\n",
    "    circ.rz(np.pi, 0)\n",
    "    circ.cx(1,0)\n",
    "    zz_gate = circ.to_gate()\n",
    "\n",
    "    qc = QuantumCircuit(2)\n",
    "    if coupling_type.upper() == 'ZZ':     \n",
    "        qc.append(zz_gate, [0,1])\n",
    "\n",
    "    if coupling_type.upper() == 'YY':     \n",
    "        qc.rx(np.pi/2, 0)\n",
    "        qc.rx(np.pi/2, 1)\n",
    "        qc.append(zz_gate, [0,1])\n",
    "        qc.rx(-np.pi/2, 0)\n",
    "        qc.rx(-np.pi/2, 1)\n",
    "\n",
    "    if coupling_type.upper() == 'XX':     \n",
    "        qc.h(0)        \n",
    "        qc.h(1)\n",
    "        qc.append(zz_gate, [0,1])\n",
    "        qc.h(0)\n",
    "        qc.h(1)\n",
    "    \n",
    "    if coupling_type.upper() == 'XZ':     \n",
    "        qc.h(1)\n",
    "        qc.append(zz_gate, [0,1])\n",
    "        qc.h(1)\n",
    "\n",
    "    if coupling_type.upper() == 'ZX':     \n",
    "        qc.h(0)\n",
    "        qc.append(zz_gate, [0,1])\n",
    "        qc.h(0)\n",
    "\n",
    "    if coupling_type.upper() == 'XY':     \n",
    "        qc.h(1)\n",
    "        qc.rx(np.pi/2, 0)\n",
    "        qc.append(zz_gate, [0,1])\n",
    "        qc.rx(-np.pi/2, 0)\n",
    "        qc.h(1)\n",
    "\n",
    "    if coupling_type.upper() == 'YX':     \n",
    "        qc.h(0)\n",
    "        qc.rx(np.pi/2, 1)\n",
    "        qc.append(zz_gate, [0,1])\n",
    "        qc.rx(-np.pi/2, 1)\n",
    "        qc.h(0)\n",
    "\n",
    "    if coupling_type.upper() == 'YZ':     \n",
    "        qc.rx(np.pi/2, 1)\n",
    "        qc.append(zz_gate, [0,1])\n",
    "        qc.rx(-np.pi/2, 1)\n",
    "\n",
    "    if coupling_type.upper() == 'ZY':     \n",
    "        qc.rx(np.pi/2, 0)\n",
    "        qc.append(zz_gate, [0,1])\n",
    "        qc.rx(-np.pi/2, 0)\n",
    "\n",
    "    return qc.to_gate(label=coupling_type)\n",
    "\n",
    "def check_coupling_gates():\n",
    "    coupling_types = ['XX', 'YY', 'ZZ', 'XY', 'YX', 'XZ', 'ZX', 'YZ', 'ZY']\n",
    "    check_list = {}\n",
    "    for coupling_type in coupling_types:\n",
    "        qc = QuantumCircuit(2)\n",
    "        qc.append(get_coupling_gate(coupling_type), [0,1])\n",
    "        qc_matrix = Operator(qc).to_matrix()\n",
    "        matrix = Pauli(coupling_type).to_matrix()\n",
    "        check_list[coupling_type] = np.allclose(1j*qc_matrix, matrix)\n",
    "    return check_list\n",
    "    \n",
    "check_coupling_gates()"
   ]
  },
  {
   "cell_type": "code",
   "execution_count": null,
   "id": "1352b596-b6b9-44b3-9dd0-2312bfb8b7d4",
   "metadata": {},
   "outputs": [],
   "source": []
  }
 ],
 "metadata": {
  "kernelspec": {
   "display_name": "Python 3 (ipykernel)",
   "language": "python",
   "name": "python3"
  },
  "language_info": {
   "codemirror_mode": {
    "name": "ipython",
    "version": 3
   },
   "file_extension": ".py",
   "mimetype": "text/x-python",
   "name": "python",
   "nbconvert_exporter": "python",
   "pygments_lexer": "ipython3",
   "version": "3.11.9"
  }
 },
 "nbformat": 4,
 "nbformat_minor": 5
}
