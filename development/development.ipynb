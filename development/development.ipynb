{
 "cells": [
  {
   "cell_type": "markdown",
   "id": "2821def8-d407-495c-b014-ff5c956e9bf9",
   "metadata": {},
   "source": [
    "# Development"
   ]
  },
  {
   "cell_type": "code",
   "execution_count": 2,
   "id": "14ecfd17-e9b7-4e40-be4b-e5e5e4d1d84f",
   "metadata": {},
   "outputs": [],
   "source": [
    "%load_ext autoreload\n",
    "%autoreload 2\n",
    "\n",
    "import os\n",
    "ROOT_DIR = os.getcwd()[:os.getcwd().rfind('NVcenter')]+ 'NVcenter'\n",
    "os.chdir(ROOT_DIR)\n",
    "\n",
    "from NVcenter import *\n",
    "plt.style.use('qDNA-default')\n",
    "\n",
    "import numpy as np \n",
    "import matplotlib.pyplot as plt\n",
    "import qutip as q"
   ]
  },
  {
   "cell_type": "code",
   "execution_count": 4,
   "id": "59fc5288-1477-493e-9414-5e0845898077",
   "metadata": {},
   "outputs": [],
   "source": [
    "C13_pos = (8.728883757198979e-10, 0.0, 1.8558998769620693e-10) # Dominik\n",
    "register_config = [('NV', (0, 0, 0), 0, {}), ('C13', C13_pos, 0, {})]\n",
    "filename = os.path.join('NVcenter', 'data', 'dominik_bath_small')\n",
    "directory = os.getcwd()\n",
    "\n",
    "bath_configs_nested = load_spin_baths(filename, directory)\n",
    "bath_configs = [item for sublist in bath_configs_nested for item in sublist]"
   ]
  },
  {
   "cell_type": "markdown",
   "id": "ca76a360-9daf-41ef-8368-8ec80910ca44",
   "metadata": {},
   "source": [
    "## Playground"
   ]
  },
  {
   "cell_type": "code",
   "execution_count": null,
   "id": "5b2b9ae2-da51-45f6-9f9f-bf0543b7f86f",
   "metadata": {},
   "outputs": [],
   "source": []
  },
  {
   "cell_type": "markdown",
   "id": "b6fca119-1297-4957-9882-812e061e30ac",
   "metadata": {
    "jp-MarkdownHeadingCollapsed": true
   },
   "source": [
    "## Optimization"
   ]
  },
  {
   "cell_type": "code",
   "execution_count": null,
   "id": "3fbf03ac-c49e-4bab-abfe-95e83eb3cf5a",
   "metadata": {},
   "outputs": [],
   "source": [
    "# Optimize pulse sequence \n",
    "from scipy.optimize import basinhopping, Bounds\n",
    "\n",
    "def print_progress(x, f, accepted):\n",
    "    print(f\"Current parameters: {x}, Infidelity: {f}, Accepted: {accepted}\")\n",
    "\n",
    "register_C13_pos = [(0.87e-9, 0, 0.19e-9)] #, (0.56e-9, 0.77e-9, 0.31e-9), (-0.83e-9, 1.15e-9, 0.46e-9)]\n",
    "bath_spin_type = 'C13'\n",
    "abundancy, rmin, rmax = 0.02e-2, 2e-9, 4.2e-9\n",
    "target_state = 1/np.sqrt(2) * (q.tensor(q.fock_dm(2,0), q.fock_dm(2,0)) + q.tensor(q.fock_dm(2,1), q.fock_dm(2,1)) )\n",
    "init_pulse_seq = [0e-6, 4.06e-6, 1.57e-6, 1.51e-6, 1.00, 3.58, 1.68, 0.69, 1.97, 0.50]\n",
    "\n",
    "spin_config = SpinConfig(register_C13_pos, bath_spin_type, abundancy, rmin, rmax)\n",
    "system_configs = spin_config.system_configs['no_bath']\n",
    "\n",
    "def calc_infidelity(pulse_seq):\n",
    "    system = System(system_configs, [])\n",
    "    pulses = Pulses(system, pulse_seq, target_state)\n",
    "    return 1 - pulses.final_fidelity\n",
    "\n",
    "basinhopping(\n",
    "    calc_infidelity, init_pulse_seq, \n",
    "    minimizer_kwargs={\"method\": \"L-BFGS-B\", \"bounds\": Bounds([0]*10, [10e-6]*4+[np.pi]*3+[2*np.pi]*3) },\n",
    "    callback=print_progress, niter=10,\n",
    ")"
   ]
  },
  {
   "cell_type": "code",
   "execution_count": null,
   "id": "695f455d-4fad-4394-b173-906df1c0beed",
   "metadata": {},
   "outputs": [],
   "source": []
  }
 ],
 "metadata": {
  "kernelspec": {
   "display_name": "Python 3 (ipykernel)",
   "language": "python",
   "name": "python3"
  },
  "language_info": {
   "codemirror_mode": {
    "name": "ipython",
    "version": 3
   },
   "file_extension": ".py",
   "mimetype": "text/x-python",
   "name": "python",
   "nbconvert_exporter": "python",
   "pygments_lexer": "ipython3",
   "version": "3.10.0"
  }
 },
 "nbformat": 4,
 "nbformat_minor": 5
}
