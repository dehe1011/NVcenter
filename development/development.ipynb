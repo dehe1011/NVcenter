{
 "cells": [
  {
   "cell_type": "code",
   "execution_count": 1,
   "id": "2a9fad66-2e11-4af3-a456-1571dbfc023d",
   "metadata": {},
   "outputs": [],
   "source": [
    "%load_ext autoreload\n",
    "%autoreload 2\n",
    "\n",
    "import os\n",
    "ROOT_DIR = os.getcwd()[:os.getcwd().rfind('NVcenter')]+ 'NVcenter'\n",
    "os.chdir(ROOT_DIR)"
   ]
  },
  {
   "cell_type": "code",
   "execution_count": 2,
   "id": "81b0c793-e0ab-41c4-9a16-b64331598862",
   "metadata": {},
   "outputs": [],
   "source": [
    "from NVcenter import *\n",
    "import numpy as np"
   ]
  },
  {
   "cell_type": "code",
   "execution_count": 3,
   "id": "0dfeddf0-7b62-4880-b59c-3184c209191f",
   "metadata": {},
   "outputs": [],
   "source": [
    "# targets\n",
    "H_gate = q.tensor( q.qeye(2), 1/np.sqrt(2) * (q.sigmax() + q.sigmaz()) )\n",
    "CNOT_gate = q.tensor( q.fock_dm(2,0), q.qeye(2) ) + q.tensor( q.fock_dm(2,1), q.sigmax() )\n",
    "init_state = q.tensor( q.fock_dm(2,0), q.fock_dm(2,0) )\n",
    "H_state = H_gate * init_state * H_gate.dag()\n",
    "CNOT_state = CNOT_gate * init_state * CNOT_gate.dag()\n",
    "\n",
    "# C13 spins  with the correct factor 2pi\n",
    "Suter_C13_1 = (4.722331100730915e-10, 0.0, 1.030637866442101e-10)\n",
    "# Suter_C13_2 = (3.6747967115510627e-10, 0.0, 1.4217244863175118e-10)\n",
    "# Suter_C13_3 = (4.1283485801972827e-10, 0.0, 8.964851198130749e-11)\n",
    "# Suter_C13_4 = (3.6919326714940366e-10, 0.0, 8.849893347694991e-11)\n",
    "\n",
    "# pulse sequences\n",
    "# pulse_seq = [0e-6, 4.06e-6, 1.57e-6, 1.51e-6, 1.00, 3.58, 1.68, 0.69, 1.97, 0.50] # Dominik Hadamard\n",
    "# pulse_seq = [0.74e-6, 0.22e-6, 0.43e-6, 0.89e-6, 0.23e-6, 1.26e-6, 1.50e-6, 3*np.pi/2, 3*np.pi/2, np.pi/2] # Suter Hadamard \n",
    "# pulse_seq = [3.78e-6, 2.11e-6, 2.15e-6, 0.63e-6, 1.88e-6, 3.96e-6, 1.9e-6, 0, np.pi/5, np.pi/2] # Suter CNOT"
   ]
  },
  {
   "cell_type": "code",
   "execution_count": 4,
   "id": "3473922e-1e49-43ec-8a33-6562525a5700",
   "metadata": {},
   "outputs": [
    {
     "ename": "IndexError",
     "evalue": "list index out of range",
     "output_type": "error",
     "traceback": [
      "\u001b[1;31m---------------------------------------------------------------------------\u001b[0m",
      "\u001b[1;31mIndexError\u001b[0m                                Traceback (most recent call last)",
      "Cell \u001b[1;32mIn[4], line 10\u001b[0m\n\u001b[0;32m      7\u001b[0m pulse \u001b[38;5;241m=\u001b[39m Pulse(pulse_seq, register_config, bath_config, approx_level, target, old_state\u001b[38;5;241m=\u001b[39m\u001b[38;5;28;01mNone\u001b[39;00m, mode\u001b[38;5;241m=\u001b[39m\u001b[38;5;124m'\u001b[39m\u001b[38;5;124munitary_gate\u001b[39m\u001b[38;5;124m'\u001b[39m )\n\u001b[0;32m      9\u001b[0m t_list \u001b[38;5;241m=\u001b[39m np\u001b[38;5;241m.\u001b[39mlinspace(\u001b[38;5;241m0\u001b[39m, pulse\u001b[38;5;241m.\u001b[39mtotal_time, \u001b[38;5;241m20\u001b[39m)\n\u001b[1;32m---> 10\u001b[0m gate_list \u001b[38;5;241m=\u001b[39m \u001b[43m[\u001b[49m\u001b[43mpulse\u001b[49m\u001b[38;5;241;43m.\u001b[39;49m\u001b[43mcalc_new_states\u001b[49m\u001b[43m(\u001b[49m\u001b[43mt\u001b[49m\u001b[43m)\u001b[49m\u001b[43m \u001b[49m\u001b[38;5;28;43;01mfor\u001b[39;49;00m\u001b[43m \u001b[49m\u001b[43mt\u001b[49m\u001b[43m \u001b[49m\u001b[38;5;129;43;01min\u001b[39;49;00m\u001b[43m \u001b[49m\u001b[43mt_list\u001b[49m\u001b[43m]\u001b[49m\n\u001b[0;32m     12\u001b[0m fig, ax \u001b[38;5;241m=\u001b[39m plt\u001b[38;5;241m.\u001b[39msubplots()\n\u001b[0;32m     13\u001b[0m ax\u001b[38;5;241m.\u001b[39mplot(t_list, [gate[\u001b[38;5;241m0\u001b[39m,\u001b[38;5;241m0\u001b[39m] \u001b[38;5;28;01mfor\u001b[39;00m gate \u001b[38;5;129;01min\u001b[39;00m gate_list])\n",
      "Cell \u001b[1;32mIn[4], line 10\u001b[0m, in \u001b[0;36m<listcomp>\u001b[1;34m(.0)\u001b[0m\n\u001b[0;32m      7\u001b[0m pulse \u001b[38;5;241m=\u001b[39m Pulse(pulse_seq, register_config, bath_config, approx_level, target, old_state\u001b[38;5;241m=\u001b[39m\u001b[38;5;28;01mNone\u001b[39;00m, mode\u001b[38;5;241m=\u001b[39m\u001b[38;5;124m'\u001b[39m\u001b[38;5;124munitary_gate\u001b[39m\u001b[38;5;124m'\u001b[39m )\n\u001b[0;32m      9\u001b[0m t_list \u001b[38;5;241m=\u001b[39m np\u001b[38;5;241m.\u001b[39mlinspace(\u001b[38;5;241m0\u001b[39m, pulse\u001b[38;5;241m.\u001b[39mtotal_time, \u001b[38;5;241m20\u001b[39m)\n\u001b[1;32m---> 10\u001b[0m gate_list \u001b[38;5;241m=\u001b[39m [\u001b[43mpulse\u001b[49m\u001b[38;5;241;43m.\u001b[39;49m\u001b[43mcalc_new_states\u001b[49m\u001b[43m(\u001b[49m\u001b[43mt\u001b[49m\u001b[43m)\u001b[49m \u001b[38;5;28;01mfor\u001b[39;00m t \u001b[38;5;129;01min\u001b[39;00m t_list]\n\u001b[0;32m     12\u001b[0m fig, ax \u001b[38;5;241m=\u001b[39m plt\u001b[38;5;241m.\u001b[39msubplots()\n\u001b[0;32m     13\u001b[0m ax\u001b[38;5;241m.\u001b[39mplot(t_list, [gate[\u001b[38;5;241m0\u001b[39m,\u001b[38;5;241m0\u001b[39m] \u001b[38;5;28;01mfor\u001b[39;00m gate \u001b[38;5;129;01min\u001b[39;00m gate_list])\n",
      "File \u001b[1;32m~\\OneDrive\\2_Uni\\Doktor\\python_projects\\NVcenter\\NVcenter\\pulse.py:198\u001b[0m, in \u001b[0;36mPulse.calc_new_states\u001b[1;34m(self, t)\u001b[0m\n\u001b[0;32m    196\u001b[0m     pulse_matrices \u001b[38;5;241m=\u001b[39m \u001b[38;5;28mself\u001b[39m\u001b[38;5;241m.\u001b[39mpulse_matrices\n\u001b[0;32m    197\u001b[0m \u001b[38;5;28;01melse\u001b[39;00m:\n\u001b[1;32m--> 198\u001b[0m     pulse_matrices \u001b[38;5;241m=\u001b[39m \u001b[38;5;28;43mself\u001b[39;49m\u001b[38;5;241;43m.\u001b[39;49m\u001b[43mcalc_pulse_matrices\u001b[49m\u001b[43m(\u001b[49m\u001b[43mt\u001b[49m\u001b[43m)\u001b[49m\n\u001b[0;32m    200\u001b[0m \u001b[38;5;28;01mfor\u001b[39;00m pulse_matrix, old_state \u001b[38;5;129;01min\u001b[39;00m \u001b[38;5;28mzip\u001b[39m(pulse_matrices, \u001b[38;5;28mself\u001b[39m\u001b[38;5;241m.\u001b[39mold_states):\n\u001b[0;32m    202\u001b[0m     \u001b[38;5;28;01mif\u001b[39;00m \u001b[38;5;28mself\u001b[39m\u001b[38;5;241m.\u001b[39mmode \u001b[38;5;241m==\u001b[39m \u001b[38;5;124m'\u001b[39m\u001b[38;5;124mstate_preparation\u001b[39m\u001b[38;5;124m'\u001b[39m:\n",
      "File \u001b[1;32m~\\OneDrive\\2_Uni\\Doktor\\python_projects\\NVcenter\\NVcenter\\pulse.py:187\u001b[0m, in \u001b[0;36mPulse.calc_pulse_matrices\u001b[1;34m(self, t)\u001b[0m\n\u001b[0;32m    185\u001b[0m pulse_matrices \u001b[38;5;241m=\u001b[39m []\n\u001b[0;32m    186\u001b[0m \u001b[38;5;28;01mfor\u001b[39;00m matrix \u001b[38;5;129;01min\u001b[39;00m \u001b[38;5;28mself\u001b[39m\u001b[38;5;241m.\u001b[39mmatrices:\n\u001b[1;32m--> 187\u001b[0m     pulse_matrix \u001b[38;5;241m=\u001b[39m \u001b[38;5;28;43mself\u001b[39;49m\u001b[38;5;241;43m.\u001b[39;49m\u001b[43mcalc_pulse_matrix\u001b[49m\u001b[43m(\u001b[49m\u001b[43mpulse_seq\u001b[49m\u001b[43m,\u001b[49m\u001b[43m \u001b[49m\u001b[43mmatrix\u001b[49m\u001b[43m)\u001b[49m \n\u001b[0;32m    188\u001b[0m     pulse_matrices\u001b[38;5;241m.\u001b[39mappend( pulse_matrix )\n\u001b[0;32m    189\u001b[0m \u001b[38;5;28;01mreturn\u001b[39;00m pulse_matrices\n",
      "File \u001b[1;32m~\\OneDrive\\2_Uni\\Doktor\\python_projects\\NVcenter\\NVcenter\\pulse.py:164\u001b[0m, in \u001b[0;36mPulse.calc_pulse_matrix\u001b[1;34m(self, pulse_seq, free_matrix)\u001b[0m\n\u001b[0;32m    162\u001b[0m \u001b[38;5;66;03m# rotation \u001b[39;00m\n\u001b[0;32m    163\u001b[0m \u001b[38;5;28;01mif\u001b[39;00m \u001b[38;5;129;01mnot\u001b[39;00m \u001b[38;5;28mself\u001b[39m\u001b[38;5;241m.\u001b[39minstant_pulses:\n\u001b[1;32m--> 164\u001b[0m     rot_matrix \u001b[38;5;241m=\u001b[39m \u001b[38;5;28mself\u001b[39m\u001b[38;5;241m.\u001b[39mcalc_H_rot(omega_L, \u001b[43mphi_list\u001b[49m\u001b[43m[\u001b[49m\u001b[43mi\u001b[49m\u001b[43m]\u001b[49m)\n\u001b[0;32m    165\u001b[0m     eigv_rot, eigs_rot \u001b[38;5;241m=\u001b[39m np\u001b[38;5;241m.\u001b[39mlinalg\u001b[38;5;241m.\u001b[39meigh( (free_matrix \u001b[38;5;241m+\u001b[39m rot_matrix)\u001b[38;5;241m.\u001b[39mfull() )\n\u001b[0;32m    166\u001b[0m     U_rot \u001b[38;5;241m=\u001b[39m \u001b[38;5;28mself\u001b[39m\u001b[38;5;241m.\u001b[39mcalc_U_time(eigv_rot, eigs_rot, pulse_time_list[i])\n",
      "\u001b[1;31mIndexError\u001b[0m: list index out of range"
     ]
    }
   ],
   "source": [
    "register_config = [('NV', (0, 0, 0), 0, {}), ('C13', Suter_C13_1, 0, {})]\n",
    "bath_config = SpinBath('C13', 0.02e-2, 2e-9, 4.2e-9).config\n",
    "approx_level = 'no_bath'\n",
    "target = H_gate\n",
    "\n",
    "pulse_seq = [0.74e-6, 0.22e-6, 0.43e-6, 0.89e-6, 0.23e-6, 1.26e-6, 1.50e-6, 3*np.pi/2, 3*np.pi/2, np.pi/2] # Suter Hadamard \n",
    "pulse = Pulse(pulse_seq, register_config, bath_config, approx_level, target, old_state=None, mode='unitary_gate' )\n",
    "\n",
    "t_list = np.linspace(0, pulse.total_time, 20)\n",
    "gate_list = [pulse.calc_new_states(t) for t in t_list]\n",
    "\n",
    "fig, ax = plt.subplots()\n",
    "ax.plot(t_list, [gate[0,0] for gate in gate_list])\n",
    "ax.plot(t_list, [gate[0,1] for gate in gate_list])\n",
    "ax.plot(t_list, [gate[0,2] for gate in gate_list])\n",
    "ax.plot(t_list, [gate[0,3] for gate in gate_list])"
   ]
  },
  {
   "cell_type": "code",
   "execution_count": null,
   "id": "8914bc2e-6f4a-4b33-81a9-14f39f726bb7",
   "metadata": {},
   "outputs": [],
   "source": []
  },
  {
   "cell_type": "markdown",
   "id": "66e9a60e-dfb5-4f1d-bf22-4a6629af77e5",
   "metadata": {},
   "source": [
    "## Reinforcement Learning"
   ]
  },
  {
   "cell_type": "code",
   "execution_count": 113,
   "id": "24277b50-982a-4e98-bb78-ea1dfdeacb89",
   "metadata": {},
   "outputs": [],
   "source": [
    "class Environment:\n",
    "    def __init__(self, register_config, bath_config, approx, target, dynamical_decoupling=False):\n",
    "\n",
    "        self.register_config = register_config\n",
    "        self.bath_config = bath_config\n",
    "        self.approx = approx\n",
    "        self.target = target\n",
    "        self.dynamical_decoupling = dynamical_decoupling\n",
    "\n",
    "        self.hamiltonian = Hamiltonian(self.register_config, self.bath_config, 'no_bath')\n",
    "        self.register_init_state = self.hamiltonian.register_init_state\n",
    "        \n",
    "        # reset emvironment\n",
    "        self.state = self.register_init_state\n",
    "        self.fidelity = calc_fidelity(self.state, self.target)\n",
    "\n",
    "    def reset(self):\n",
    "        self.state = self.init_state\n",
    "        self.fidelity = calc_fidelity(self.state, self.target)\n",
    "\n",
    "    def step(self, pulse_seq):\n",
    "        if self.approx == 'gCCE':\n",
    "            self.state = self.get_new_states_gCCE(pulse_seq, self.state, 2)\n",
    "        else: \n",
    "            self.state = self.get_new_states(pulse_seq, self.state, self.approx)[0]\n",
    "            \n",
    "        self.fidelity = calc_fidelity(self.state, self.target)\n",
    "        return self.state, self.fidelity\n",
    "        \n",
    "\n",
    "    def get_new_states(self, pulse_seq, old_state, approx_level):\n",
    "        pulse = Pulse(pulse_seq, \n",
    "                      self.register_config, \n",
    "                      self.bath_config, \n",
    "                      approx_level, \n",
    "                      self.target, \n",
    "                      old_state=old_state, \n",
    "                      dynamical_decoupling=self.dynamical_decoupling)\n",
    "\n",
    "        if approx_level == 'gCCE2':\n",
    "            return pulse.new_states, pulse.idx_gCCE2\n",
    "        return pulse.new_states\n",
    "    \n",
    "    def get_new_states_gCCE(self, pulse_seq, old_states, gCCE_order):\n",
    "        gCCE0_dm = self.get_new_states(pulse_seq, old_states, 'gCCE0')[0]\n",
    "        gCCE_dm = gCCE0_dm\n",
    "        \n",
    "        if gCCE_order == 0:\n",
    "            return gCCE_dm\n",
    "            \n",
    "        gCCE1_dms = self.get_new_states(pulse_seq, old_states, 'gCCE1')\n",
    "        gCCE_dm_correction = np.prod( [gCCE1_dm.full() / gCCE0_dm.full() for gCCE1_dm in gCCE1_dms], axis=0 )\n",
    "        gCCE_dm_correction = q.Qobj(gCCE_dm, dims=[[2, 2], [2, 2]])\n",
    "        gCCE_dm *= gCCE_dm_correction\n",
    "        \n",
    "        if gCCE_order == 1:\n",
    "            return gCCE_dm\n",
    "            \n",
    "        gCCE2_dms, idx_gCCE2 = self.get_new_states(pulse_seq, old_states, 'gCCE2') \n",
    "        gCCE_dm_correction = np.prod( [(gCCE2_dm.full() * gCCE0_dm.full()) / (gCCE1_dms[i].full() * gCCE1_dms[j].full()) for gCCE2_dm, (i,j) in zip(gCCE2_dms, idx_gCCE2)], axis=0 )\n",
    "        gCCE_dm_correction = q.Qobj(gCCE_dm, dims=[[2, 2], [2, 2]])\n",
    "        gCCE_dm *= gCCE_dm_correction\n",
    "        \n",
    "        if gCCE_order == 2:\n",
    "            return gCCE_dm\n",
    "            \n",
    "        else:\n",
    "            return NotImplementedError"
   ]
  },
  {
   "cell_type": "code",
   "execution_count": 115,
   "id": "27aa453f-593a-4bac-b828-62948dc7be9b",
   "metadata": {},
   "outputs": [
    {
     "data": {
      "text/plain": [
       "0.4355367060849788"
      ]
     },
     "execution_count": 115,
     "metadata": {},
     "output_type": "execute_result"
    }
   ],
   "source": [
    "register_config = [('NV', (0, 0, 0), 0, {}), ('C13', (0.87e-9, 0, 0.19e-9), 0, {})]\n",
    "bath_config = SpinBath('C13', 0.02e-2, 2e-9, 2.5e-9).config\n",
    "approx = 'full_bath'\n",
    "\n",
    "pulse_seq = [0e-6, 4.06e-6, 1.57e-6, 1.51e-6, 1.00, 3.58, 1.68, 0.69, 1.97, 0.50]\n",
    "target = 1/np.sqrt(2) * (q.tensor(q.fock_dm(2,0), q.fock_dm(2,0)) + q.tensor(q.fock_dm(2,1), q.fock_dm(2,1)) )\n",
    "\n",
    "env = Environment(register_config, bath_config, approx, target, dynamical_decoupling=False)\n",
    "env.step(pulse_seq)[1]"
   ]
  },
  {
   "cell_type": "code",
   "execution_count": null,
   "id": "0a7a95d5-51b8-41ae-948e-29b1afdb6900",
   "metadata": {},
   "outputs": [],
   "source": []
  }
 ],
 "metadata": {
  "kernelspec": {
   "display_name": "Python 3 (ipykernel)",
   "language": "python",
   "name": "python3"
  },
  "language_info": {
   "codemirror_mode": {
    "name": "ipython",
    "version": 3
   },
   "file_extension": ".py",
   "mimetype": "text/x-python",
   "name": "python",
   "nbconvert_exporter": "python",
   "pygments_lexer": "ipython3",
   "version": "3.11.9"
  }
 },
 "nbformat": 4,
 "nbformat_minor": 5
}
