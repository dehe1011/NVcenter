{
 "cells": [
  {
   "cell_type": "code",
   "execution_count": 52,
   "id": "e992f4df-d434-45b7-98f7-60c745f5d961",
   "metadata": {},
   "outputs": [],
   "source": [
    "import sympy as sp\n",
    "\n",
    "# Dephasing channel\n",
    "t, T2, omega = sp.symbols('t T2 w', real=True, positive=True)\n",
    "gamma = sp.exp(t / T2) \n",
    "rot_plus = sp.exp(sp.I * omega * t)\n",
    "rot_minus = sp.exp(-sp.I * omega * t)\n",
    "R_liouville = sp.diag(1, gamma*rot_plus, gamma*rot_minus, 1)"
   ]
  },
  {
   "cell_type": "code",
   "execution_count": 81,
   "id": "c476136f-249e-4729-b97e-89a2b7890220",
   "metadata": {},
   "outputs": [],
   "source": [
    "from qiskit.quantum_info import Operator\n",
    "import numpy as np\n",
    "\n",
    "a = np.pi/4\n",
    "\n",
    "Z = np.array([[1, 0],\n",
    "              [0, -1]])\n",
    "\n",
    "Rz = np.array([[np.exp(-1j * a/ 2), 0],\n",
    "              [0, np.exp(1j * a/ 2)]])\n",
    "\n",
    "rho = 0.5 * np.array([[1,1], [1,1]])"
   ]
  },
  {
   "cell_type": "code",
   "execution_count": 83,
   "id": "8b9c2a3f-2075-4b1b-885a-ced2f08ebf52",
   "metadata": {},
   "outputs": [
    {
     "data": {
      "text/plain": [
       "array([[ 0.5       +0.j        , -0.35355339+0.35355339j],\n",
       "       [-0.35355339-0.35355339j,  0.5       +0.j        ]])"
      ]
     },
     "execution_count": 83,
     "metadata": {},
     "output_type": "execute_result"
    }
   ],
   "source": [
    "Rz @ Z @ rho @ Z @ Rz.conj().T"
   ]
  },
  {
   "cell_type": "code",
   "execution_count": 53,
   "id": "61e5e0b0-b949-4f4c-b6ed-68dc548ad9ae",
   "metadata": {},
   "outputs": [
    {
     "name": "stdout",
     "output_type": "stream",
     "text": [
      "⎡                    t⋅(-ⅈ⋅T₂⋅w + 1)⎤\n",
      "⎢                    ───────────────⎥\n",
      "⎢                          T₂       ⎥\n",
      "⎢     1       0  0  ℯ               ⎥\n",
      "⎢                                   ⎥\n",
      "⎢     0       0  0         0        ⎥\n",
      "⎢                                   ⎥\n",
      "⎢     0       0  0         0        ⎥\n",
      "⎢                                   ⎥\n",
      "⎢         t                         ⎥\n",
      "⎢ ⅈ⋅t⋅w + ──                        ⎥\n",
      "⎢         T₂                        ⎥\n",
      "⎣ℯ            0  0         1        ⎦\n"
     ]
    }
   ],
   "source": [
    "# Basis change matrix (Pauli -> Liouville basis)\n",
    "B = sp.Matrix([\n",
    "    [1, 0, 0, 1],\n",
    "    [0, 1, sp.I, 0],\n",
    "    [0, 1,  -sp.I, 0],\n",
    "    [1, 0, 0, -1],\n",
    "]) / sp.sqrt(2) \n",
    "\n",
    "# Basis change matrix (Liouville -> Pauli basis)\n",
    "B_inv = B.inv()\n",
    "\n",
    "# Pauli transfer matrix: R = B⁻¹ * E * B\n",
    "R_pauli = B_inv * R_liouville * B\n",
    "R_pauli = sp.simplify(R_pauli)\n",
    "\n",
    "E00 = sp.Matrix([1,0,0,0])\n",
    "E10 = sp.Matrix([0,1,0,0])\n",
    "E01 = sp.Matrix([0,0,1,0])\n",
    "E11 = sp.Matrix([0,0,0,1])\n",
    "vecs = [E00, E10, E01, E11]\n",
    "\n",
    "def vec_to_matrix(v):\n",
    "    return sp.Matrix([[v[0], v[2]], [v[1], v[3]]])\n",
    "\n",
    "\n",
    "choi = sp.zeros(4, 4)\n",
    "for i in range(2):\n",
    "    for j in range(2):\n",
    "        E_ij = vecs[i + 2*j]\n",
    "        R_liouville = B * R_pauli * B_inv\n",
    "        transformed_vec = R_liouville * E_ij\n",
    "        transformed_matrix = vec_to_matrix(transformed_vec)\n",
    "        \n",
    "        for k in range(2):\n",
    "            for l in range(2):\n",
    "                choi[2*i + k, 2*j + l] = transformed_matrix[k, l]\n",
    "\n",
    "choi = sp.simplify(choi)\n",
    "sp.pprint(choi)"
   ]
  },
  {
   "cell_type": "code",
   "execution_count": 58,
   "id": "db19e4cf-e94b-4f85-ae16-90a70641805f",
   "metadata": {},
   "outputs": [
    {
     "name": "stdout",
     "output_type": "stream",
     "text": [
      "C_plus =\n",
      "⎡     t                                          ⎛ t                             ⎞        ⎤\n",
      "⎢     ──                                         ⎜ ──                            ⎟        ⎥\n",
      "⎢     T₂                                         ⎜ T₂                            ⎟  -ⅈ⋅t⋅w⎥\n",
      "⎢    ℯ     Max(0, 1 - exp(t/T2))   1             ⎝ℯ   - Max(0, 1 - exp(t/T2)) + 1⎠⋅ℯ      ⎥\n",
      "⎢    ─── + ───────────────────── + ─       0  0  ─────────────────────────────────────────⎥\n",
      "⎢     2              2             2                                 2                    ⎥\n",
      "⎢                                                                                         ⎥\n",
      "⎢                   0                      0  0                      0                    ⎥\n",
      "⎢                                                                                         ⎥\n",
      "⎢                   0                      0  0                      0                    ⎥\n",
      "⎢                                                                                         ⎥\n",
      "⎢⎛ t                             ⎞                     t                                  ⎥\n",
      "⎢⎜ ──                            ⎟                     ──                                 ⎥\n",
      "⎢⎜ T₂                            ⎟  ⅈ⋅t⋅w              T₂                                 ⎥\n",
      "⎢⎝ℯ   - Max(0, 1 - exp(t/T2)) + 1⎠⋅ℯ                  ℯ     Max(0, 1 - exp(t/T2))   1     ⎥\n",
      "⎢────────────────────────────────────────  0  0       ─── + ───────────────────── + ─     ⎥\n",
      "⎣                   2                                  2              2             2     ⎦\n",
      "\n",
      "C_minus =\n",
      "⎡                                        -ⅈ⋅t⋅w                       ⎤\n",
      "⎢    Max(0, exp(t/T2) - 1)             -ℯ      ⋅Max(0, exp(t/T2) - 1) ⎥\n",
      "⎢    ─────────────────────       0  0  ───────────────────────────────⎥\n",
      "⎢              2                                      2               ⎥\n",
      "⎢                                                                     ⎥\n",
      "⎢              0                 0  0                 0               ⎥\n",
      "⎢                                                                     ⎥\n",
      "⎢              0                 0  0                 0               ⎥\n",
      "⎢                                                                     ⎥\n",
      "⎢  ⅈ⋅t⋅w                                                              ⎥\n",
      "⎢-ℯ     ⋅Max(0, exp(t/T2) - 1)              Max(0, exp(t/T2) - 1)     ⎥\n",
      "⎢──────────────────────────────  0  0       ─────────────────────     ⎥\n",
      "⎣              2                                      2               ⎦\n"
     ]
    }
   ],
   "source": [
    "V, D = choi.diagonalize()  # A = P * D * P⁻¹\n",
    "V_dag = V.H\n",
    "\n",
    "def construct_C(sign=1):\n",
    "    C = sp.zeros(*choi.shape)\n",
    "    for i in range(D.shape[0]):\n",
    "        lam = D[i, i]\n",
    "        vi = V[:, i]\n",
    "        norm = sp.sqrt((vi.H * vi)[0])\n",
    "        vi_norm = vi / norm\n",
    "        proj = vi_norm * vi_norm.H\n",
    "        weight = sp.Max(0, sign * lam)\n",
    "        C += weight * proj\n",
    "    return sp.simplify(C)\n",
    "\n",
    "C_plus = construct_C(+1)\n",
    "C_minus = construct_C(-1)\n",
    "\n",
    "print(\"C_plus =\")\n",
    "sp.pprint(C_plus)\n",
    "\n",
    "print(\"\\nC_minus =\")\n",
    "sp.pprint(C_minus)"
   ]
  },
  {
   "cell_type": "code",
   "execution_count": 57,
   "id": "788d7368-817b-4f55-a068-f18e90620553",
   "metadata": {},
   "outputs": [
    {
     "data": {
      "text/latex": [
       "$\\displaystyle \\left[\\begin{matrix}0 & 0 & - e^{- i t w} & e^{- i t w}\\\\1 & 0 & 0 & 0\\\\0 & 1 & 0 & 0\\\\0 & 0 & 1 & 1\\end{matrix}\\right]$"
      ],
      "text/plain": [
       "Matrix([\n",
       "[0, 0, -exp(-I*t*w), exp(-I*t*w)],\n",
       "[1, 0,            0,           0],\n",
       "[0, 1,            0,           0],\n",
       "[0, 0,            1,           1]])"
      ]
     },
     "execution_count": 57,
     "metadata": {},
     "output_type": "execute_result"
    }
   ],
   "source": [
    "V"
   ]
  },
  {
   "cell_type": "code",
   "execution_count": 55,
   "id": "7379fc1f-43cd-4561-8dc3-796717ba4434",
   "metadata": {},
   "outputs": [
    {
     "data": {
      "text/latex": [
       "$\\displaystyle \\left[\\begin{matrix}0 & 0 & - e^{- i t w} & e^{- i t w}\\\\1 & 0 & 0 & 0\\\\0 & 1 & 0 & 0\\\\0 & 0 & 1 & 1\\end{matrix}\\right]$"
      ],
      "text/plain": [
       "Matrix([\n",
       "[0, 0, -exp(-I*t*w), exp(-I*t*w)],\n",
       "[1, 0,            0,           0],\n",
       "[0, 1,            0,           0],\n",
       "[0, 0,            1,           1]])"
      ]
     },
     "execution_count": 55,
     "metadata": {},
     "output_type": "execute_result"
    }
   ],
   "source": [
    "P"
   ]
  },
  {
   "cell_type": "code",
   "execution_count": 24,
   "id": "d0a45061-557d-4718-9958-a6551a21e80a",
   "metadata": {},
   "outputs": [],
   "source": [
    "# Pauli matrices\n",
    "I = sp.Matrix([[1, 0], [0, 1]])\n",
    "X = sp.Matrix([[0, 1], [1, 0]])\n",
    "Y = sp.Matrix([[0, -sp.I], [sp.I, 0]])\n",
    "Z = sp.Matrix([[1, 0], [0, -1]])\n",
    "paulis = [I, X, Y, Z]\n",
    "\n",
    "I = sp.Matrix([[1,0,0,1]])\n",
    "X = sp.Matrix([[0,1,1,0]])\n",
    "Y = sp.Matrix([[0,sp.I,-sp.I,0]])\n",
    "Z = sp.Matrix([[1,0,0,-1]])"
   ]
  },
  {
   "cell_type": "code",
   "execution_count": 27,
   "id": "20ac6289-3a69-47f4-abdc-b0cdbd486773",
   "metadata": {},
   "outputs": [],
   "source": [
    "E00 = sp.Matrix([1,0,0,0])\n",
    "E10 = sp.Matrix([0,1,0,0])\n",
    "E01 = sp.Matrix([0,0,1,0])\n",
    "E11 = sp.Matrix([0,0,0,1])\n",
    "\n",
    "B * R_pauli * B_inv * E00"
   ]
  },
  {
   "cell_type": "code",
   "execution_count": 34,
   "id": "f742fe3b-c67a-477d-be63-2c4f391203eb",
   "metadata": {},
   "outputs": [
    {
     "data": {
      "text/latex": [
       "$\\displaystyle \\left[\\begin{matrix}1\\\\0\\\\0\\\\0\\end{matrix}\\right]$"
      ],
      "text/plain": [
       "Matrix([\n",
       "[1],\n",
       "[0],\n",
       "[0],\n",
       "[0]])"
      ]
     },
     "execution_count": 34,
     "metadata": {},
     "output_type": "execute_result"
    }
   ],
   "source": [
    "B * R_pauli * B_inv * E00"
   ]
  },
  {
   "cell_type": "code",
   "execution_count": null,
   "id": "8d7179be-1b8a-4780-a96d-667d3d245032",
   "metadata": {},
   "outputs": [],
   "source": []
  }
 ],
 "metadata": {
  "kernelspec": {
   "display_name": "Python 3 (ipykernel)",
   "language": "python",
   "name": "python3"
  },
  "language_info": {
   "codemirror_mode": {
    "name": "ipython",
    "version": 3
   },
   "file_extension": ".py",
   "mimetype": "text/x-python",
   "name": "python",
   "nbconvert_exporter": "python",
   "pygments_lexer": "ipython3",
   "version": "3.11.9"
  }
 },
 "nbformat": 4,
 "nbformat_minor": 5
}
