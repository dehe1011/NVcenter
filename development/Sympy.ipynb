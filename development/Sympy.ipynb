{
 "cells": [
  {
   "cell_type": "markdown",
   "id": "ae8654a8-93e4-44ab-80d4-57583bae2036",
   "metadata": {},
   "source": [
    "# Symbolical Calculations with Sympy"
   ]
  },
  {
   "cell_type": "code",
   "execution_count": 1,
   "id": "45824915-82ce-4dd7-9688-141aeeb01ee6",
   "metadata": {},
   "outputs": [],
   "source": [
    "%load_ext autoreload\n",
    "%autoreload 2\n",
    "\n",
    "import os\n",
    "ROOT_DIR = os.getcwd()[:os.getcwd().rfind('NVcenter')]+ 'NVcenter'\n",
    "os.chdir(ROOT_DIR)\n",
    "\n",
    "from NVcenter import *\n",
    "from NVcenter.mitigation_sympy import *\n",
    "plt.style.use('NVcenter-default')\n",
    "\n",
    "import qutip as q\n",
    "import numpy as np\n",
    "import sympy as sp"
   ]
  },
  {
   "cell_type": "code",
   "execution_count": 2,
   "id": "2db0fc3c-9610-4a24-81e8-16b72f27d5f1",
   "metadata": {},
   "outputs": [],
   "source": [
    "# define symbols\n",
    "T1, T2, omega = sp.symbols('T_1 T_2 omega', real=True, positive=True)\n",
    "rho00, rho01, rho10, rho11 = sp.symbols('rho00 rho01 rho10 rho11', complex=True)\n",
    "t = sp.Symbol('t', real=True, nonnegative=True)"
   ]
  },
  {
   "cell_type": "markdown",
   "id": "5fd6ad2f-2d97-4c91-9827-e6114908df31",
   "metadata": {},
   "source": [
    "## Pure Dephasing Channel"
   ]
  },
  {
   "cell_type": "code",
   "execution_count": 3,
   "id": "4f812864-4e8c-43bc-9771-1ab20068a5b7",
   "metadata": {},
   "outputs": [
    {
     "name": "stdout",
     "output_type": "stream",
     "text": [
      "Choi plus is already TP, no D matrix is needed\n",
      "Choi minus is already TP, no D matrix is needed\n",
      "⎡     t                      ⎤\n",
      "⎢     ──                     ⎥\n",
      "⎢     T₂                     ⎥\n",
      "⎢0.5⋅ℯ   - 0.5        0      ⎥\n",
      "⎢                            ⎥\n",
      "⎢                    t       ⎥\n",
      "⎢                    ──      ⎥\n",
      "⎢                    T₂      ⎥\n",
      "⎣      0        0.5⋅ℯ   - 0.5⎦\n"
     ]
    }
   ],
   "source": [
    "# define symbols\n",
    "T2, omega = sp.symbols('T_2 omega', real=True, positive=True)\n",
    "rho00, rho01, rho10, rho11 = sp.symbols('rho00 rho01 rho10 rho11', complex=True)\n",
    "t = sp.Symbol('t', real=True, nonnegative=True)\n",
    "\n",
    "# define system and dissipator\n",
    "gamma = 1/(2*T2)\n",
    "L_ops = [sp.sqrt(gamma) * Z]\n",
    "H = 0.5 * omega * Z\n",
    "rho = sp.Matrix([[rho00, rho01], [rho10, rho11]])\n",
    "\n",
    "# contruct and invert map \n",
    "STM = construct_STM(rho, H, L_ops, t)\n",
    "\n",
    "inv_STM = STM.inv()\n",
    "inv_choi = STM_to_Choi(inv_STM)\n",
    "\n",
    "# divide map for in CP maps \n",
    "choi_plus, choi_minus = get_CP_Choi(inv_choi)\n",
    "\n",
    "# select p and D, this step should be done manually \n",
    "kraus_sum = choi_minus[0::2, 0::2] + choi_minus[1::2, 1::2]\n",
    "sp.pprint(kraus_sum)\n",
    "p = kraus_sum[1,1]\n",
    "D_val = p - kraus_sum[0,0]\n",
    "choi_D = sp.Matrix([[D_val,0,0,0], [0,0,0,0], [0,0,0,0], [0,0,0,0]])\n",
    "\n",
    "# divide map for in CPTP maps \n",
    "choi_plus, choi_minus = get_CPTP_Choi(choi_plus, choi_minus, choi_D, p)"
   ]
  },
  {
   "cell_type": "code",
   "execution_count": 4,
   "id": "a205152c-dd3c-4a60-af72-58b3f6c6a040",
   "metadata": {},
   "outputs": [
    {
     "name": "stdout",
     "output_type": "stream",
     "text": [
      "Choi matrix already describes to an extremal map.\n",
      "True\n",
      "Choi matrix already describes to an extremal map.\n",
      "True\n",
      "If this return an identity the choi matrix describes a unitary and can be implemented without an ancilla. \n",
      "Matrix([[1.00000000000000, 0, 0, 0], [0, 1.00000000000000, 0, 0], [0, 0, 1.00000000000000, 0], [0, 0, 0, 1.00000000000000]])\n",
      "If this return an identity the choi matrix describes a unitary and can be implemented without an ancilla. \n",
      "Matrix([[1, 0, 0, 0], [0, 1, 0, 0], [0, 0, 1, 0], [0, 0, 0, 1]])\n"
     ]
    }
   ],
   "source": [
    "print(is_extremal(choi_plus))\n",
    "print(is_extremal(choi_minus))\n",
    "print(is_ancilla_required(choi_plus))\n",
    "print(is_ancilla_required(choi_minus))"
   ]
  },
  {
   "cell_type": "code",
   "execution_count": 32,
   "id": "f854e96f-dcb0-4bd7-93aa-59370cc51657",
   "metadata": {},
   "outputs": [
    {
     "name": "stdout",
     "output_type": "stream",
     "text": [
      "Pure dephasing channel\n",
      "p value\n",
      "     t       \n",
      "     ──      \n",
      "     T₂      \n",
      "0.5⋅ℯ   - 0.5\n",
      "CPTP Choi plus\n",
      "⎡                        ⅈ⋅ω⋅t⎤\n",
      "⎢    1.0      0  0  1.0⋅ℯ     ⎥\n",
      "⎢                             ⎥\n",
      "⎢     0       0  0      0     ⎥\n",
      "⎢                             ⎥\n",
      "⎢     0       0  0      0     ⎥\n",
      "⎢                             ⎥\n",
      "⎢     -ⅈ⋅ω⋅t                  ⎥\n",
      "⎣1.0⋅ℯ        0  0     1.0    ⎦\n",
      "CPTP Choi minus\n",
      "⎡                  ⅈ⋅ω⋅t⎤\n",
      "⎢   1      0  0  -ℯ     ⎥\n",
      "⎢                       ⎥\n",
      "⎢   0      0  0     0   ⎥\n",
      "⎢                       ⎥\n",
      "⎢   0      0  0     0   ⎥\n",
      "⎢                       ⎥\n",
      "⎢  -ⅈ⋅ω⋅t               ⎥\n",
      "⎣-ℯ        0  0     1   ⎦\n"
     ]
    }
   ],
   "source": [
    "print(\"Pure dephasing channel\")\n",
    "print(\"p value\")\n",
    "sp.pprint(p)\n",
    "print(\"CPTP Choi plus\")\n",
    "sp.pprint(choi_plus)\n",
    "print(\"CPTP Choi minus\")\n",
    "sp.pprint(choi_minus)"
   ]
  },
  {
   "cell_type": "markdown",
   "id": "bbfd8fcb-8a29-4d3a-afe5-aa03418f95c1",
   "metadata": {},
   "source": [
    "## Relaxation Channel"
   ]
  },
  {
   "cell_type": "code",
   "execution_count": 5,
   "id": "9a232791-6298-4ba8-87e6-5ce971c5a380",
   "metadata": {},
   "outputs": [
    {
     "name": "stdout",
     "output_type": "stream",
     "text": [
      "Choi plus is not TP, choose a D matrix\n",
      "Choi minus is not TP, choose a D matrix\n",
      "⎡0        0      ⎤\n",
      "⎢                ⎥\n",
      "⎢        t       ⎥\n",
      "⎢        ──      ⎥\n",
      "⎢        T₁      ⎥\n",
      "⎣0  1.0⋅ℯ   - 1.0⎦\n"
     ]
    }
   ],
   "source": [
    "# define symbols\n",
    "T1, omega = sp.symbols('T_1 omega', real=True, positive=True)\n",
    "rho00, rho01, rho10, rho11 = sp.symbols('rho00 rho01 rho10 rho11', complex=True)\n",
    "t = sp.Symbol('t', real=True, nonnegative=True)\n",
    "\n",
    "# define system and dissipator\n",
    "gamma = 1/(T1)\n",
    "L_ops = [sp.sqrt(gamma) * sp.Matrix([[0,1], [0,0]])]\n",
    "H = sp.Matrix([[0,0], [0,0]]) # 0.5 * omega * Z\n",
    "rho = sp.Matrix([[rho00, rho01], [rho10, rho11]])\n",
    "\n",
    "# contruct and invert map \n",
    "STM = construct_STM(rho, H, L_ops, t)\n",
    "\n",
    "inv_STM = STM.inv()\n",
    "inv_choi = STM_to_Choi(inv_STM)\n",
    "\n",
    "# divide map for in CP maps \n",
    "choi_plus, choi_minus = get_CP_Choi(inv_choi)\n",
    "\n",
    "# select p and D, this step should be done manually \n",
    "kraus_sum = choi_minus[0::2, 0::2] + choi_minus[1::2, 1::2]\n",
    "sp.pprint(kraus_sum)\n",
    "p = kraus_sum[1,1]\n",
    "D_val = p - kraus_sum[0,0]\n",
    "choi_D = sp.Matrix([[D_val,0,0,0], [0,0,0,0], [0,0,0,0], [0,0,0,0]])\n",
    "\n",
    "# divide map for in CPTP maps \n",
    "choi_plus, choi_minus = get_CPTP_Choi(choi_plus, choi_minus, choi_D, p)"
   ]
  },
  {
   "cell_type": "code",
   "execution_count": 6,
   "id": "a3230287-f886-4ff8-a7a8-3c43ca18f851",
   "metadata": {},
   "outputs": [
    {
     "name": "stdout",
     "output_type": "stream",
     "text": [
      "False\n",
      "Choi matrix already describes to an extremal map.\n",
      "True\n",
      "If this return an identity the choi matrix describes a unitary and can be implemented without an ancilla. \n",
      "Matrix([[1.00000000000000, 0, 0, 0], [0, 1.0*exp(-t/T_1), 0, 0], [0, 0, 1.0*exp(-t/T_1), 0], [0, 0, 0, 1.00000000000000]])\n",
      "If this return an identity the choi matrix describes a unitary and can be implemented without an ancilla. \n",
      "Matrix([[2, 0, 0, 0], [0, 0, 0, 0], [0, 0, 0, 0], [0, 0, 0, 0]])\n"
     ]
    }
   ],
   "source": [
    "print(is_extremal(choi_plus))\n",
    "print(is_extremal(choi_minus))\n",
    "print(is_ancilla_required(choi_plus))\n",
    "print(is_ancilla_required(choi_minus))"
   ]
  },
  {
   "cell_type": "code",
   "execution_count": 34,
   "id": "1705c86a-2b8e-4e23-9c0a-57dd5665bf70",
   "metadata": {},
   "outputs": [
    {
     "name": "stdout",
     "output_type": "stream",
     "text": [
      "Relaxation channel\n",
      "p value\n",
      "     t       \n",
      "     ──      \n",
      "     T₁      \n",
      "1.0⋅ℯ   - 1.0\n",
      "CPTP Choi plus\n",
      "⎡                      -t  ⎤\n",
      "⎢                      ────⎥\n",
      "⎢                      2⋅T₁⎥\n",
      "⎢   1.0     0  0  1.0⋅ℯ    ⎥\n",
      "⎢                          ⎥\n",
      "⎢    0      0  0      0    ⎥\n",
      "⎢                          ⎥\n",
      "⎢    0      0  0      0    ⎥\n",
      "⎢                          ⎥\n",
      "⎢     -t                   ⎥\n",
      "⎢     ────                 ⎥\n",
      "⎢     2⋅T₁                 ⎥\n",
      "⎣1.0⋅ℯ      0  0     1.0   ⎦\n",
      "CPTP Choi minus\n",
      "⎡1  0  0  0⎤\n",
      "⎢          ⎥\n",
      "⎢0  0  0  0⎥\n",
      "⎢          ⎥\n",
      "⎢0  0  1  0⎥\n",
      "⎢          ⎥\n",
      "⎣0  0  0  0⎦\n"
     ]
    }
   ],
   "source": [
    "print(\"Relaxation channel\")\n",
    "print(\"p value\")\n",
    "sp.pprint(p)\n",
    "print(\"CPTP Choi plus\")\n",
    "sp.pprint(choi_plus)\n",
    "print(\"CPTP Choi minus\")\n",
    "sp.pprint(choi_minus)"
   ]
  },
  {
   "cell_type": "markdown",
   "id": "755e210a-d7b8-450d-896d-9cb8609228d8",
   "metadata": {},
   "source": [
    "## Combined Dephasing and Relaxation Channel"
   ]
  },
  {
   "cell_type": "code",
   "execution_count": null,
   "id": "f7e466ac-f3d5-4ca1-a66f-424b5a1a4fab",
   "metadata": {},
   "outputs": [],
   "source": [
    "# define symbols\n",
    "T1, T2, T3, omega = sp.symbols('T_1 T_2 T_3 omega', real=True, positive=True)\n",
    "gamma_relax = 1/(T1)\n",
    "gamma_deph = 1/(2*T2)\n",
    "rho00, rho01, rho10, rho11 = sp.symbols('rho00 rho01 rho10 rho11', complex=True)\n",
    "rho = sp.Matrix([[rho00, rho01], [rho10, rho11]])\n",
    "t = sp.Symbol('t', real=True, nonnegative=True)\n",
    "\n",
    "# define system and dissipator\n",
    "L_ops = [sp.sqrt(gamma_relax) * sp.Matrix([[0,1], [0,0]]),\n",
    "        sp.sqrt(gamma_deph) * Z]\n",
    "H = sp.Matrix([[0,0], [0,0]]) # 0.5 * omega * Z\n",
    "\n",
    "# contruct and invert map \n",
    "STM = construct_STM(rho, H, L_ops, t)\n",
    "\n",
    "inv_STM = sp.Matrix([[1,0,0,1-sp.exp(t/T1)], [0,sp.exp(t/T3),0,0], [0,0,sp.exp(t/T3),0], [0,0,0,sp.exp(t/T1)]])\n",
    "inv_choi = STM_to_Choi(inv_STM)\n",
    "\n",
    "# divide map for in CP maps \n",
    "choi_plus, choi_minus = get_CP_Choi(inv_choi)\n",
    "\n",
    "# select p and D, this step should be done manually \n",
    "# kraus_sum = partial_trace(choi_minus)\n",
    "# print(kraus_sum)\n",
    "# p = kraus_sum[0,0]\n",
    "# choi_D = sp.Matrix([[p,0,0,0], [0,0,0,0], [0,0,0,0], [0,0,0,0]])\n",
    "\n",
    "# divide map for in CPTP maps \n",
    "# choi_plus, choi_minus = get_CPTP_Choi(choi_plus, choi_minus, choi_D, p)"
   ]
  },
  {
   "cell_type": "code",
   "execution_count": 63,
   "id": "cc486340-fe65-4af8-90d9-17fb8cf01c56",
   "metadata": {},
   "outputs": [
    {
     "data": {
      "text/latex": [
       "$\\displaystyle \\left[\\begin{matrix}0 & 0 & 0 & 0\\\\0 & 0 & 0 & 0\\\\0 & 0 & 0 & 0\\\\0 & 0 & 0 & 0\\end{matrix}\\right]$"
      ],
      "text/plain": [
       "Matrix([\n",
       "[0, 0, 0, 0],\n",
       "[0, 0, 0, 0],\n",
       "[0, 0, 0, 0],\n",
       "[0, 0, 0, 0]])"
      ]
     },
     "execution_count": 63,
     "metadata": {},
     "output_type": "execute_result"
    }
   ],
   "source": [
    "# define symbols\n",
    "T1, T2, T3, omega = sp.symbols('T_1 T_2 T_3 omega', real=True, positive=True)\n",
    "gamma_relax = 1/(T1)\n",
    "gamma_deph = 1/(2*T2)\n",
    "rho00, rho01, rho10, rho11 = sp.symbols('rho00 rho01 rho10 rho11', complex=True)\n",
    "rho = sp.Matrix([[rho00, rho01], [rho10, rho11]])\n",
    "t = sp.Symbol('t', real=True, nonnegative=True)\n",
    "\n",
    "# define system and dissipator\n",
    "L_relax = sp.sqrt(gamma_relax) * sp.Matrix([[0,1], [0,0]])\n",
    "L_deph = sp.sqrt(gamma_deph) * Z\n",
    "H_0 = sp.Matrix([[0,0], [0,0]])\n",
    "H_Z = 0.5 * omega * Z\n",
    "H_X = 0.5 * omega * X\n",
    "\n",
    "# contruct and invert map \n",
    "STM1 = sp.simplify(construct_STM(rho, H_Z, [L_relax, L_deph], t))\n",
    "\n",
    "# divide map into three maps\n",
    "STM_relax = construct_STM(rho, H_0, [L_relax], t)\n",
    "STM_deph = construct_STM(rho, H_0, [L_deph], t)\n",
    "STM_unitary = construct_STM(rho, H_Z, [], t)\n",
    "\n",
    "STM2 = sp.simplify(STM_relax * STM_deph * STM_unitary)\n",
    "sp.simplify(STM1 - STM2)"
   ]
  },
  {
   "cell_type": "code",
   "execution_count": 33,
   "id": "ff8935c3-93f9-4832-9d0e-58d8839c61ce",
   "metadata": {},
   "outputs": [],
   "source": [
    "# Calculate p * C_minus\n",
    "\n",
    "C1 = Kraus_to_STM([Z])\n",
    "C1 = STM_to_Choi(C1)\n",
    "\n",
    "T1, T2 = sp.symbols('T_1 T_2', real=True, positive=True)\n",
    "theta = sp.symbols('theta', real=True)\n",
    "Rz = sp.Matrix([[sp.exp(-sp.I*theta/2), 0], [0, sp.exp(sp.I*theta/2)]])\n",
    "C2 = Kraus_to_STM([Rz])\n",
    "C2 = STM_to_Choi(C2)\n",
    "\n",
    "C3 = sp.Matrix([[1,0,0,0], [0,0,0,0], [0,0,1,0], [0,0,0,0]])\n",
    "\n",
    "p1 = 0.5 * sp.exp(t/T1) * 0.5 * ( sp.exp(t/T2) - 1)\n",
    "p2 = p1\n",
    "p3 = sp.exp(t/T1) - 1"
   ]
  },
  {
   "cell_type": "markdown",
   "id": "cda40170-91f0-41cc-8f98-c3c8bbd2933e",
   "metadata": {},
   "source": [
    "## Extremal Maps and Circuit Decomposition"
   ]
  },
  {
   "cell_type": "code",
   "execution_count": 9,
   "id": "eaf2266c-841e-4853-8c0d-796b97f19a28",
   "metadata": {},
   "outputs": [
    {
     "name": "stdout",
     "output_type": "stream",
     "text": [
      "upper right\n",
      "⎡        ⅈ⋅ω⋅t⎤\n",
      "⎢0  1.0⋅ℯ     ⎥\n",
      "⎢             ⎥\n",
      "⎣0      0     ⎦\n",
      "⎡0  1.0⋅r₀₁⎤\n",
      "⎢          ⎥\n",
      "⎣0     0   ⎦\n",
      "lower left\n",
      "⎡     0       0⎤\n",
      "⎢              ⎥\n",
      "⎢     -ⅈ⋅ω⋅t   ⎥\n",
      "⎣1.0⋅ℯ        0⎦\n",
      "⎡   0     0⎤\n",
      "⎢          ⎥\n",
      "⎢    ___   ⎥\n",
      "⎣1.0⋅r₀₁  0⎦\n",
      "upper right\n",
      "⎡     ⅈ⋅ω⋅t⎤\n",
      "⎢0  -ℯ     ⎥\n",
      "⎢          ⎥\n",
      "⎣0     0   ⎦\n",
      "⎡0  r₀₁⎤\n",
      "⎢      ⎥\n",
      "⎣0   0 ⎦\n",
      "lower left\n",
      "⎡   0      0⎤\n",
      "⎢           ⎥\n",
      "⎢  -ⅈ⋅ω⋅t   ⎥\n",
      "⎣-ℯ        0⎦\n",
      "⎡ 0   0⎤\n",
      "⎢      ⎥\n",
      "⎢___   ⎥\n",
      "⎣r₀₁  0⎦\n"
     ]
    }
   ],
   "source": [
    "# is the second division needed or does the choi matrix already belong to an extremal map?\n",
    "# for an extremal map we get C = sqrt(A) U sqrt(B)\n",
    "# here I calculate constraints for the contraction matrix R \n",
    "\n",
    "def show_constraints(choi):\n",
    "    A = choi[0:2, 0:2]\n",
    "    B = choi[2:4, 2:4]\n",
    "    C = choi[0:2, 2:4]\n",
    "    C_dag = choi[2:4, 0:2]\n",
    "    \n",
    "    r00, r01, r10, r11 = sp.symbols('r00 r01 r10 r11', complex=True)\n",
    "    R = sp.Matrix([[r00, r01], [r10, r11]])\n",
    "    print(\"upper right\")\n",
    "    sp.pprint(C)\n",
    "    sp.pprint( sp.sqrt(A) * R * sp.sqrt(B) )\n",
    "    print(\"lower left\")\n",
    "    sp.pprint(C_dag)\n",
    "    sp.pprint( sp.sqrt(B) * R.H * sp.sqrt(A) )\n",
    "\n",
    "show_constraints(choi_plus)\n",
    "show_constraints(choi_minus)"
   ]
  },
  {
   "cell_type": "code",
   "execution_count": 214,
   "id": "8ea845e3-6a1d-42d5-a847-c3761eb0fbe0",
   "metadata": {},
   "outputs": [
    {
     "data": {
      "text/latex": [
       "$\\displaystyle \\left[\\begin{matrix}0 & 1.0 e^{i \\theta}\\\\1.0 e^{i \\theta} & 0\\end{matrix}\\right]$"
      ],
      "text/plain": [
       "Matrix([\n",
       "[               0, 1.0*exp(I*theta)],\n",
       "[1.0*exp(I*theta),                0]])"
      ]
     },
     "execution_count": 214,
     "metadata": {},
     "output_type": "execute_result"
    }
   ],
   "source": [
    "R = sp.Matrix([[0, sp.exp(-t/(2*T1))], [sp.exp(-t/(2*T1)), 0]])\n",
    "S, D = R.diagonalize()\n",
    "theta = sp.symbols('theta')\n",
    "1/2 * S * sp.diag(sp.exp(sp.I * theta + sp.I * sp.pi), sp.exp(sp.I * theta)) * S"
   ]
  },
  {
   "cell_type": "code",
   "execution_count": 194,
   "id": "f47339f7-edfa-46fe-b724-435e7d5f32c9",
   "metadata": {},
   "outputs": [
    {
     "data": {
      "text/latex": [
       "$\\displaystyle \\left[\\begin{matrix}0 & 1.0 e^{- i \\theta}\\\\1.0 e^{- i \\theta} & 0\\end{matrix}\\right]$"
      ],
      "text/plain": [
       "Matrix([\n",
       "[                0, 1.0*exp(-I*theta)],\n",
       "[1.0*exp(-I*theta),                 0]])"
      ]
     },
     "execution_count": 194,
     "metadata": {},
     "output_type": "execute_result"
    }
   ],
   "source": [
    "1/2 * S * sp.diag(sp.exp(-sp.I * theta - sp.I * sp.pi), sp.exp(-sp.I * theta)) * S"
   ]
  }
 ],
 "metadata": {
  "kernelspec": {
   "display_name": "Python 3 (ipykernel)",
   "language": "python",
   "name": "python3"
  },
  "language_info": {
   "codemirror_mode": {
    "name": "ipython",
    "version": 3
   },
   "file_extension": ".py",
   "mimetype": "text/x-python",
   "name": "python",
   "nbconvert_exporter": "python",
   "pygments_lexer": "ipython3",
   "version": "3.11.9"
  }
 },
 "nbformat": 4,
 "nbformat_minor": 5
}
