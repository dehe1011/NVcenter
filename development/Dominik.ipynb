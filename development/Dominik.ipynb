{
 "cells": [
  {
   "cell_type": "code",
   "execution_count": 1,
   "id": "b116bec5-7af9-4027-a815-16e9f4af3c84",
   "metadata": {},
   "outputs": [],
   "source": [
    "from itertools import product, permutations, combinations\n",
    "from functools import reduce\n",
    "import numpy as np\n",
    "import qutip as q\n",
    "import scipy.constants as c\n",
    "\n",
    "from qiskit import QuantumCircuit\n",
    "from qiskit.quantum_info import Operator, Pauli\n",
    "\n",
    "from src import *"
   ]
  },
  {
   "cell_type": "code",
   "execution_count": 2,
   "id": "59f68fe1-368c-48b7-b8e6-807071846770",
   "metadata": {},
   "outputs": [],
   "source": [
    "import matplotlib.pyplot as plt\n",
    "\n",
    "# plt.style.use(\"seaborn-v0_8\")\n",
    "plt.rcParams.update(\n",
    "    {\n",
    "        # \"text.usetex\": True,\n",
    "        # \"font.family\": \"serif\",\n",
    "        # \"font.serif\": [\"Times\"], # used in elsarticle (Elsevier)\n",
    "        # \"font.serif\": [\"Computer Modern Roman\"], # used in revtex4-2 (APS)\n",
    "        # \"text.latex.preamble\": r\"\\usepackage{amsmath}\\usepackage{siunitx}\",\n",
    "        \"legend.fontsize\": 20,\n",
    "        \"xtick.labelsize\": 20,\n",
    "        \"ytick.labelsize\": 20,\n",
    "        \"axes.labelsize\": 20,\n",
    "        \"axes.titlesize\": 20,\n",
    "        \"font.size\": 20,\n",
    "    }\n",
    ")"
   ]
  },
  {
   "cell_type": "code",
   "execution_count": 3,
   "id": "ce5e804c-0e7c-421f-8fc5-d10c099495ae",
   "metadata": {},
   "outputs": [],
   "source": [
    "# gg1: add position of one C13 in register\n",
    "# gg2: add position of two C13 in register\n",
    "\n",
    "# gCCE2: not for C13, for P1 only for two P1 centers that are closer than 55nm\n",
    "\n",
    "# more than 2nm > unwanted since hard to control\n",
    "# Bell 0.02, Bell 0.05, GHZ 0.02, GHZ 0.05 (800 spin bath states, >0.99, gCCE1)\n",
    "# impact radius 4nm (Bell), 5nm(GHZ)\n",
    "# Bell (200 spin bath states, >0.94, gCCE2)\n",
    "# impact radius\n",
    "# P1: >30nm, 200ppb, 9 impurities, impact radius"
   ]
  },
  {
   "cell_type": "markdown",
   "id": "a93f2ac8-b1c5-4af5-a6cd-63b24d18ea6f",
   "metadata": {},
   "source": [
    "## Rest"
   ]
  },
  {
   "cell_type": "code",
   "execution_count": 7,
   "id": "c017d860-0223-4d9b-a0ab-488ab9d9da3e",
   "metadata": {},
   "outputs": [],
   "source": [
    "# Fig. 3 in Dominik's paper (binomial distribution)\n",
    "\n",
    "def calc_num_C(volume):\n",
    "    \"\"\" Calculates the number of C-12 and C-13 atoms in a given volume. \"\"\"\n",
    "    a_C = 3.567e-10 # lattice constant for carbon\n",
    "    V_unit = a_C**3 # volume of the unit cell\n",
    "    N_unit = 8 # number of carbon atoms per unit cell\n",
    "    V = volume\n",
    "    N = V * N_unit/V_unit # number of carbon atoms inside the sphere\n",
    "    return N\n",
    "\n",
    "def calc_num_C13(volume, abundancy):\n",
    "    \"\"\" Calculates the number of C-13 atoms in a given volume. Equals the expectation value of the binomial distribution. \"\"\"\n",
    "    N = calc_num_C(volume)\n",
    "    return int(abundancy * N)\n",
    "\n",
    "def calc_num_P1(volume, abundancy):\n",
    "    \"\"\" Calculates the number of P1 centers in a given volume. Equals the expectation value of the binomial distribution. \"\"\"\n",
    "    return calc_num_C13(volume, abundancy)\n",
    "\n",
    "volume = 4/3 * np.pi * (1.8e-9)**3 # volume of a sphere with radius 1.8nm\n",
    "N = calc_num_C(volume) # number of carbon atoms in the volume\n",
    "\n",
    "# Binomial distribution: abundancy is probability of finding a C-13 instead of a C-12\n",
    "abundancies = np.arange(2, 11) * 0.005e-2\n",
    "more_than_zero, more_than_one, more_than_two = [], [], []\n",
    "for abundancy in abundancies: \n",
    "    zero_C13 = (1-abundancy)**N\n",
    "    one_C13 = N * abundancy * (1-abundancy)**(N-1)\n",
    "    two_C13 = N*(N-1)/2 * abundancy**2 * (1-abundancy)**(N-2)\n",
    "    more_than_zero.append( 1- zero_C13 )\n",
    "    more_than_one.append( 1- zero_C13 - one_C13 )\n",
    "    more_than_two.append( 1- zero_C13 - one_C13 - two_C13 )"
   ]
  },
  {
   "cell_type": "code",
   "execution_count": 8,
   "id": "78060611-d0fa-4567-9afe-ee8dde572529",
   "metadata": {},
   "outputs": [],
   "source": [
    "# Fig. 3 in Dominik's paper (sampling over random realizations of spin baths)\n",
    "\n",
    "def get_spin_bath_pos(num_bath_spins, rmin=0, rmax=10e-9, seed=123):\n",
    "    \"\"\" Returns random positions of C-13 atoms in sperical coordinates with a given volume. \"\"\"\n",
    "    np.random.seed(seed)\n",
    "    r = np.random.uniform(rmin**3, rmax**3, num_bath_spins)**(1/3)\n",
    "    theta = np.random.uniform(0, np.pi, num_bath_spins)\n",
    "    phi = np.random.uniform(0, 2 * np.pi, num_bath_spins)\n",
    "    return np.array([r, theta, phi]).T\n",
    "\n",
    "V = 4/3 * np.pi * (10e-9)**3 # volume of a sphere with radius 10m \n",
    "\n",
    "num_bath_states = 20000\n",
    "more_than_one, more_than_two = [], []\n",
    "abundancies = np.arange(2, 11) * 0.005e-2\n",
    "\n",
    "for abundancy in abundancies:\n",
    "    num_C13 = calc_num_C13(volume, abundancy) # expectation value\n",
    "    num_more_than_one, num_more_than_two = 0, 0\n",
    "    # sampling over bath states\n",
    "    for i in range(num_bath_states):\n",
    "        spin_bath_pos = get_spin_bath_pos(num_C13, seed=i)\n",
    "        num_close_C13 = int(sum( spin_bath_pos[:,0] <= 1.8e-9 ))\n",
    "        if num_close_C13 > 1:\n",
    "            num_more_than_one += 1\n",
    "        if num_close_C13 > 2:\n",
    "            num_more_than_two += 1\n",
    "\n",
    "    more_than_one.append( num_more_than_one/num_bath_states )\n",
    "    more_than_two.append( num_more_than_two/num_bath_states )"
   ]
  },
  {
   "cell_type": "code",
   "execution_count": 9,
   "id": "7202da79-510a-4cb5-bb5c-1522a489a66d",
   "metadata": {},
   "outputs": [
    {
     "data": {
      "image/png": "[encoded data removed]",
      "text/plain": [
       "<Figure size 1000x200 with 1 Axes>"
      ]
     },
     "metadata": {},
     "output_type": "display_data"
    }
   ],
   "source": [
    "fig, ax = plt.subplots(figsize=(10,2))\n",
    "ax.plot(abundancies, more_than_one, 'b.', markersize=10, label=r'$\\eta_{^{13}C}>1$')\n",
    "ax.plot(abundancies, more_than_two, 'k.', markersize=10, label=r'$\\eta_{^{13}C}>2$')\n",
    "ax.set_ylabel(r'$P_R$')\n",
    "ax.set_xlabel(r'$\\eta_{^{13}C} (\\%)$')\n",
    "ax.set_ylim(0, 0.4)\n",
    "# ax.set_xlim(0.01e-2, 0.05e-2)\n",
    "ax.legend(fontsize='small')\n",
    "ax.set_xticks([0.01e-2, 0.02e-2, 0.03e-2, 0.04e-2, 0.05e-2], [0.01, 0.02, 0.03, 0.04, 0.05])\n",
    "ax.set_yticks([0, 0.1, 0.2, 0.3, 0.4], [0, 10, 20, 30, 40])\n",
    "plt.show()"
   ]
  },
  {
   "cell_type": "code",
   "execution_count": 10,
   "id": "c445dac1-e942-47e2-b1c7-9b7344037b08",
   "metadata": {},
   "outputs": [
    {
     "name": "stdout",
     "output_type": "stream",
     "text": [
      "Impact Radius 4e-09, Abundancy 0.0002: 8 C13 atoms\n",
      "Impact Radius 4e-09, Abundancy 0.0005: 20 C13 atoms\n",
      "Impact Radius 5e-09, Abundancy 0.0002: 17 C13 atoms\n",
      "Impact Radius 5e-09, Abundancy 0.0005: 43 C13 atoms\n"
     ]
    }
   ],
   "source": [
    "register_radius = 2e-9\n",
    "for impact_radius, abundancy in [(4e-9, 0.02e-2), (4e-9, 0.05e-2), (5e-9, 0.02e-2), (5e-9, 0.05e-2)]:\n",
    "    volume = 4/3 * np.pi * (impact_radius**3 - register_radius**3)\n",
    "    num_C13 = calc_num_C13(volume, abundancy)\n",
    "    print(f\"Impact Radius {impact_radius}, Abundancy {abundancy}: {num_C13} C13 atoms\")"
   ]
  },
  {
   "cell_type": "code",
   "execution_count": 59,
   "id": "c462d55a-d315-47c0-aa57-03ec04e9547c",
   "metadata": {},
   "outputs": [
    {
     "data": {
      "text/plain": [
       "6"
      ]
     },
     "execution_count": 59,
     "metadata": {},
     "output_type": "execute_result"
    }
   ],
   "source": [
    "volume = 4/3 * np.pi * (35e-9**3 - 2e-9**3)\n",
    "abundancy = 200e-9\n",
    "\n",
    "calc_num_P1(volume, abundancy)"
   ]
  },
  {
   "cell_type": "code",
   "execution_count": 79,
   "id": "0d9030b5-0ecc-45dd-aa87-129e61187786",
   "metadata": {},
   "outputs": [
    {
     "data": {
      "text/plain": [
       "array([[3.78042229e-09, 1.23187351e+00, 3.33983578e+00],\n",
       "       [2.99667693e-09, 1.07812553e+00, 3.34157128e+00],\n",
       "       [2.84354377e-09, 2.29037720e+00, 3.98605878e+00],\n",
       "       [3.54195202e-09, 1.37781534e+00, 5.33713737e+00],\n",
       "       [3.81554723e-09, 1.87483642e-01, 4.55188705e+00],\n",
       "       [3.30077300e-09, 1.25049291e+00, 3.83917394e+00],\n",
       "       [4.17583906e-09, 2.31848095e+00, 4.53924565e+00],\n",
       "       [3.76239520e-09, 5.73314680e-01, 2.02921070e+00],\n",
       "       [3.41377993e-09, 5.51197948e-01, 2.27318517e+00]])"
      ]
     },
     "execution_count": 79,
     "metadata": {},
     "output_type": "execute_result"
    }
   ],
   "source": [
    "# C-13 spin bath in Sec. IV. A. \n",
    "rmin, rmax = 2e-9, 4.2e-9\n",
    "abundancy = 0.02e-2\n",
    "\n",
    "volume = 4/3 * np.pi * (rmax**3 - rmin**3)\n",
    "num_C13 = calc_num_C13(volume, abundancy)\n",
    "get_spin_bath_pos(num_C13, rmin=rmin, rmax=rmax, seed=123)\n",
    "# all possible bath states (2**9 = 512)"
   ]
  },
  {
   "cell_type": "code",
   "execution_count": 77,
   "id": "6e12506c-f9e7-433a-94d0-1e370d7adddc",
   "metadata": {},
   "outputs": [
    {
     "data": {
      "text/plain": [
       "array([[7.14518270e-08, 1.23187351e+00, 3.33983578e+00],\n",
       "       [5.49340894e-08, 1.07812553e+00, 3.34157128e+00],\n",
       "       [5.15542464e-08, 2.29037720e+00, 3.98605878e+00],\n",
       "       [6.65232107e-08, 1.37781534e+00, 5.33713737e+00],\n",
       "       [7.21728390e-08, 1.87483642e-01, 4.55188705e+00],\n",
       "       [6.14645737e-08, 1.25049291e+00, 3.83917394e+00],\n",
       "       [7.95111141e-08, 2.31848095e+00, 4.53924565e+00],\n",
       "       [7.10813340e-08, 5.73314680e-01, 2.02921070e+00],\n",
       "       [6.38456545e-08, 5.51197948e-01, 2.27318517e+00]])"
      ]
     },
     "execution_count": 77,
     "metadata": {},
     "output_type": "execute_result"
    }
   ],
   "source": [
    "# P1 spin bath in Sec. IV. A. \n",
    "rmin, rmax = 30e-9, 80e-9\n",
    "abundancy = 26e-9\n",
    "\n",
    "volume = 4/3 * np.pi * (rmax**3 - rmin**3)\n",
    "num_P1 = calc_num_P1(volume, abundancy)\n",
    "num_P1\n",
    "get_spin_bath_pos(num_P1, rmin=rmin, rmax=rmax, seed=123)\n",
    "# 1050 bath states (in total there are 12**9 possible bath states, i.e. more than 5 billion)"
   ]
  },
  {
   "cell_type": "code",
   "execution_count": null,
   "id": "cfdeb11f-6582-44af-9acc-5109ea0d7b37",
   "metadata": {},
   "outputs": [],
   "source": [
    "# P1 spin bath in Sec. IV. B. \n",
    "rmin, rmax = 30e-9, 80e-9\n",
    "abundancy = 200e-9 # 300e-9, 400e-9\n",
    "\n",
    "volume = 4/3 * np.pi * (rmax**3 - rmin**3)\n",
    "num_P1 = calc_num_P1(volume, abundancy)\n",
    "num_P1\n",
    "get_spin_bath_pos(num_P1, rmin=rmin, rmax=rmax, seed=123)\n",
    "# 1050 bath states (in total there are 12**9 possible bath states, i.e. more than 5 billion)"
   ]
  },
  {
   "cell_type": "markdown",
   "id": "ee87222d-548e-4365-9cb5-d39e6411e771",
   "metadata": {},
   "source": [
    "# Register"
   ]
  },
  {
   "cell_type": "code",
   "execution_count": 53,
   "id": "09179b93-749f-4855-a3c0-f0aa5fbc09f9",
   "metadata": {},
   "outputs": [],
   "source": [
    "class Evaluation:\n",
    "    def __init__(self, pulses, target_type):\n",
    "        self.pulses = pulses\n",
    "        self.register = self.pulses.register\n",
    "        self.target_type = target_type\n",
    "        self.num_spins = self.pulses.register.num_spins\n",
    "\n",
    "        # time evolution\n",
    "        self.sim_time = np.linspace(0, 40e-6, 400)\n",
    "        self.time_evolution = [self.pulses.get_intermediate_state(t) for t in self.sim_time]\n",
    "\n",
    "        # target state\n",
    "        if self.num_spins == 2 and self.target_type == 'Bell':\n",
    "            self.target_state =  1/np.sqrt(2) * (q.tensor(q.basis(2,0), q.basis(2,0)) + q.tensor(q.basis(2,1), q.basis(2,1)) )\n",
    "\n",
    "        if self.num_spins == 4 and self.target_type == 'Bell':\n",
    "            self.target_state = 1/np.sqrt(2) * ( q.tensor(q.basis(2,0), q.basis(2,0), q.basis(2,0), q.basis(2,0)) + q.tensor(q.basis(2,0), q.basis(2,1), q.basis(2,1), q.basis(2,0)) )\n",
    "\n",
    "        if self.num_spins == 4 and self.target_type == 'GHZ':\n",
    "            self.target_state = 1/np.sqrt(2) * ( q.tensor(q.basis(2,0), q.basis(2,0), q.basis(2,0), q.basis(2,0)) + q.tensor(q.basis(2,0), q.basis(2,1), q.basis(2,1), q.basis(2,1)) )\n",
    "\n",
    "        self.target_dm = self.target_state * self.target_state.dag()\n",
    "\n",
    "        # target properties\n",
    "        if self.num_spins == 2:\n",
    "            self.target_logarithmic_negativity = calc_logarithmic_negativity(self.target_dm)\n",
    "        self.Sx_target = q.expect( self.target_dm, self.pulses.register.S_NV_eff_big[1] )\n",
    "        self.Sy_target = q.expect( self.target_dm, self.pulses.register.S_NV_eff_big[2] )\n",
    "        self.Sz_target = q.expect( self.target_dm, self.pulses.register.S_NV_eff_big[3] )\n",
    "\n",
    "    def calc_process_fidelity(self):\n",
    "        final_state = self.pulses.get_final_state()\n",
    "        target_state = self.target_dm\n",
    "        return calc_fidelity(final_state, target_state)\n",
    "\n",
    "    def calc_process_infidelity(self):\n",
    "        return 1 - self.calc_process_fidelity()"
   ]
  },
  {
   "cell_type": "code",
   "execution_count": 596,
   "id": "f6cbe149-98b9-49b9-8245-3da33ff5a3b2",
   "metadata": {},
   "outputs": [
    {
     "data": {
      "image/png": "[encoded data removed]",
      "text/plain": [
       "<Figure size 640x480 with 1 Axes>"
      ]
     },
     "metadata": {},
     "output_type": "display_data"
    }
   ],
   "source": [
    "pos_C13 = [(0.87e-9, 0, 0.19e-9)]#, (0.56e-9, 0.77e-9, 0.31e-9), (-0.83e-9, 1.15e-9, 0.46e-9)]\n",
    "pulse_seq = [0e-6, 4.06e-6, 1.57e-6, 1.51e-6, 1.00, 3.58, 1.68, 0.69, 1.97, 0.50]\n",
    "target_type = 'Bell'\n",
    "\n",
    "register = Register(pos_C13)\n",
    "pulses = Pulses(register, pulse_seq)\n",
    "evaluation = Evaluation(pulses, target_type)\n",
    "\n",
    "fig, ax = plt.subplots()\n",
    "# ax.plot( evaluation.sim_time, [q.expect(rho, register.S_NV_eff_big[3]) for rho in evaluation.time_evolution] )\n",
    "# ax.plot( evaluation.sim_time, [q.expect(rho, register.S_C13_big[0][1]) for rho in evaluation.time_evolution] )\n",
    "ax.plot( evaluation.sim_time, [calc_logarithmic_negativity(rho) for rho in evaluation.time_evolution] )\n",
    "ax.axvline(x=pulses.pulse_time)\n",
    "plt.show()"
   ]
  },
  {
   "cell_type": "markdown",
   "id": "5a8f8b5b-7ef0-4cfc-8e0d-4e6abe9c0416",
   "metadata": {},
   "source": [
    "# Quantum Computer "
   ]
  },
  {
   "cell_type": "code",
   "execution_count": 2,
   "id": "86b5581b-5f44-416d-b272-3a31ed904346",
   "metadata": {},
   "outputs": [
    {
     "data": {
      "text/plain": [
       "{'XX': True,\n",
       " 'YY': True,\n",
       " 'ZZ': True,\n",
       " 'XY': True,\n",
       " 'YX': True,\n",
       " 'XZ': True,\n",
       " 'ZX': True,\n",
       " 'YZ': True,\n",
       " 'ZY': True}"
      ]
     },
     "execution_count": 2,
     "metadata": {},
     "output_type": "execute_result"
    }
   ],
   "source": [
    "qc = QuantumCircuit(2)\n",
    "\n",
    "def get_coupling_gate(coupling_type):\n",
    "    \"\"\"\n",
    "    Returns Two-qubit coupling gates\n",
    "    Coupling types: 'XX', 'YY', 'ZZ', 'XY', 'YX', 'XZ', 'ZX', 'YZ', 'ZY'\n",
    "    \"\"\"\n",
    "    circ = QuantumCircuit(2)\n",
    "    circ.cx(1,0)\n",
    "    circ.rz(np.pi, 0)\n",
    "    circ.cx(1,0)\n",
    "    zz_gate = circ.to_gate()\n",
    "\n",
    "    qc = QuantumCircuit(2)\n",
    "    if coupling_type.upper() == 'ZZ':     \n",
    "        qc.append(zz_gate, [0,1])\n",
    "\n",
    "    if coupling_type.upper() == 'YY':     \n",
    "        qc.rx(np.pi/2, 0)\n",
    "        qc.rx(np.pi/2, 1)\n",
    "        qc.append(zz_gate, [0,1])\n",
    "        qc.rx(-np.pi/2, 0)\n",
    "        qc.rx(-np.pi/2, 1)\n",
    "\n",
    "    if coupling_type.upper() == 'XX':     \n",
    "        qc.h(0)        \n",
    "        qc.h(1)\n",
    "        qc.append(zz_gate, [0,1])\n",
    "        qc.h(0)\n",
    "        qc.h(1)\n",
    "    \n",
    "    if coupling_type.upper() == 'XZ':     \n",
    "        qc.h(1)\n",
    "        qc.append(zz_gate, [0,1])\n",
    "        qc.h(1)\n",
    "\n",
    "    if coupling_type.upper() == 'ZX':     \n",
    "        qc.h(0)\n",
    "        qc.append(zz_gate, [0,1])\n",
    "        qc.h(0)\n",
    "\n",
    "    if coupling_type.upper() == 'XY':     \n",
    "        qc.h(1)\n",
    "        qc.rx(np.pi/2, 0)\n",
    "        qc.append(zz_gate, [0,1])\n",
    "        qc.rx(-np.pi/2, 0)\n",
    "        qc.h(1)\n",
    "\n",
    "    if coupling_type.upper() == 'YX':     \n",
    "        qc.h(0)\n",
    "        qc.rx(np.pi/2, 1)\n",
    "        qc.append(zz_gate, [0,1])\n",
    "        qc.rx(-np.pi/2, 1)\n",
    "        qc.h(0)\n",
    "\n",
    "    if coupling_type.upper() == 'YZ':     \n",
    "        qc.rx(np.pi/2, 1)\n",
    "        qc.append(zz_gate, [0,1])\n",
    "        qc.rx(-np.pi/2, 1)\n",
    "\n",
    "    if coupling_type.upper() == 'ZY':     \n",
    "        qc.rx(np.pi/2, 0)\n",
    "        qc.append(zz_gate, [0,1])\n",
    "        qc.rx(-np.pi/2, 0)\n",
    "\n",
    "    return qc.to_gate(label=coupling_type)\n",
    "\n",
    "def check_coupling_gates():\n",
    "    coupling_types = ['XX', 'YY', 'ZZ', 'XY', 'YX', 'XZ', 'ZX', 'YZ', 'ZY']\n",
    "    check_list = {}\n",
    "    for coupling_type in coupling_types:\n",
    "        qc = QuantumCircuit(2)\n",
    "        qc.append(get_coupling_gate(coupling_type), [0,1])\n",
    "        qc_matrix = Operator(qc).to_matrix()\n",
    "        matrix = Pauli(coupling_type).to_matrix()\n",
    "        check_list[coupling_type] = np.allclose(1j*qc_matrix, matrix)\n",
    "    return check_list\n",
    "    \n",
    "check_coupling_gates()"
   ]
  },
  {
   "cell_type": "code",
   "execution_count": null,
   "id": "1352b596-b6b9-44b3-9dd0-2312bfb8b7d4",
   "metadata": {},
   "outputs": [],
   "source": []
  }
 ],
 "metadata": {
  "kernelspec": {
   "display_name": "Python 3 (ipykernel)",
   "language": "python",
   "name": "python3"
  },
  "language_info": {
   "codemirror_mode": {
    "name": "ipython",
    "version": 3
   },
   "file_extension": ".py",
   "mimetype": "text/x-python",
   "name": "python",
   "nbconvert_exporter": "python",
   "pygments_lexer": "ipython3",
   "version": "3.11.9"
  }
 },
 "nbformat": 4,
 "nbformat_minor": 5
}
